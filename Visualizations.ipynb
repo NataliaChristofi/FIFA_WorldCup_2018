{
 "cells": [
  {
   "cell_type": "code",
   "execution_count": 25,
   "metadata": {},
   "outputs": [],
   "source": [
    "from IPython.core.interactiveshell import InteractiveShell\n",
    "InteractiveShell.ast_node_interactivity = \"all\"\n",
    "\n",
    "import numpy as np; np.random.seed(136)\n",
    "import pandas as pd\n",
    "\n",
    "import matplotlib.pyplot as plt \n",
    "import seaborn as sns\n",
    "import plotly.express as px\n",
    "import faculty.datasets as datasets\n",
    "from pandas.api.types import CategoricalDtype\n",
    "import matplotlib.ticker as mtick\n",
    "import statsmodels.api as sm\n",
    "import plotly.graph_objects as go\n",
    "from pandas import Series, DataFrame\n",
    "import os\n",
    "from functools import reduce\n",
    "\n"
   ]
  },
  {
   "cell_type": "code",
   "execution_count": 26,
   "metadata": {},
   "outputs": [],
   "source": [
    "#import market value dataset and all football 18\n",
    "market_value_all = pd.read_csv('/project/market_value_all.csv', index_col=0)\n",
    "all_football_18 = pd.read_csv('/project/all_football_18.csv', index_col=0)\n"
   ]
  },
  {
   "cell_type": "code",
   "execution_count": 27,
   "metadata": {},
   "outputs": [
    {
     "data": {
      "text/html": [
       "<div>\n",
       "<style scoped>\n",
       "    .dataframe tbody tr th:only-of-type {\n",
       "        vertical-align: middle;\n",
       "    }\n",
       "\n",
       "    .dataframe tbody tr th {\n",
       "        vertical-align: top;\n",
       "    }\n",
       "\n",
       "    .dataframe thead th {\n",
       "        text-align: right;\n",
       "    }\n",
       "</style>\n",
       "<table border=\"1\" class=\"dataframe\">\n",
       "  <thead>\n",
       "    <tr style=\"text-align: right;\">\n",
       "      <th></th>\n",
       "      <th>country</th>\n",
       "      <th>confederation</th>\n",
       "      <th>squad_size</th>\n",
       "      <th>avg_age</th>\n",
       "      <th>market_value_in_euros</th>\n",
       "      <th>market_value_digits</th>\n",
       "      <th>avg_market_value_of_players_in_mill_euros</th>\n",
       "    </tr>\n",
       "  </thead>\n",
       "  <tbody>\n",
       "    <tr>\n",
       "      <th>0</th>\n",
       "      <td>Argentina</td>\n",
       "      <td>CONMEBOL</td>\n",
       "      <td>36</td>\n",
       "      <td>25.9</td>\n",
       "      <td>747.50 million</td>\n",
       "      <td>747</td>\n",
       "      <td>20.75</td>\n",
       "    </tr>\n",
       "    <tr>\n",
       "      <th>1</th>\n",
       "      <td>Australia</td>\n",
       "      <td>AFC</td>\n",
       "      <td>23</td>\n",
       "      <td>25.6</td>\n",
       "      <td>32.85 million</td>\n",
       "      <td>32</td>\n",
       "      <td>1.39</td>\n",
       "    </tr>\n",
       "    <tr>\n",
       "      <th>2</th>\n",
       "      <td>Belgium</td>\n",
       "      <td>UEFA</td>\n",
       "      <td>23</td>\n",
       "      <td>27.8</td>\n",
       "      <td>419.00 million</td>\n",
       "      <td>419</td>\n",
       "      <td>18.22</td>\n",
       "    </tr>\n",
       "    <tr>\n",
       "      <th>3</th>\n",
       "      <td>Brazil</td>\n",
       "      <td>CONMEBOL</td>\n",
       "      <td>23</td>\n",
       "      <td>26.5</td>\n",
       "      <td>870.50 million</td>\n",
       "      <td>870</td>\n",
       "      <td>37.83</td>\n",
       "    </tr>\n",
       "    <tr>\n",
       "      <th>4</th>\n",
       "      <td>Colombia</td>\n",
       "      <td>CONMEBOL</td>\n",
       "      <td>26</td>\n",
       "      <td>28.5</td>\n",
       "      <td>282.95 million</td>\n",
       "      <td>282</td>\n",
       "      <td>10.85</td>\n",
       "    </tr>\n",
       "  </tbody>\n",
       "</table>\n",
       "</div>"
      ],
      "text/plain": [
       "     country confederation  squad_size  avg_age market_value_in_euros  \\\n",
       "0  Argentina      CONMEBOL          36     25.9        747.50 million   \n",
       "1  Australia           AFC          23     25.6        32.85 million    \n",
       "2    Belgium          UEFA          23     27.8        419.00 million   \n",
       "3     Brazil      CONMEBOL          23     26.5        870.50 million   \n",
       "4   Colombia      CONMEBOL          26     28.5        282.95 million   \n",
       "\n",
       "   market_value_digits  avg_market_value_of_players_in_mill_euros  \n",
       "0                  747                                      20.75  \n",
       "1                   32                                       1.39  \n",
       "2                  419                                      18.22  \n",
       "3                  870                                      37.83  \n",
       "4                  282                                      10.85  "
      ]
     },
     "execution_count": 27,
     "metadata": {},
     "output_type": "execute_result"
    },
    {
     "data": {
      "text/html": [
       "<div>\n",
       "<style scoped>\n",
       "    .dataframe tbody tr th:only-of-type {\n",
       "        vertical-align: middle;\n",
       "    }\n",
       "\n",
       "    .dataframe tbody tr th {\n",
       "        vertical-align: top;\n",
       "    }\n",
       "\n",
       "    .dataframe thead th {\n",
       "        text-align: right;\n",
       "    }\n",
       "</style>\n",
       "<table border=\"1\" class=\"dataframe\">\n",
       "  <thead>\n",
       "    <tr style=\"text-align: right;\">\n",
       "      <th></th>\n",
       "      <th>country_name</th>\n",
       "      <th>Final_positional_ranking</th>\n",
       "      <th>goal</th>\n",
       "      <th>shotsPerGame</th>\n",
       "      <th>yellow_card</th>\n",
       "      <th>red_card</th>\n",
       "      <th>possession_percentage</th>\n",
       "      <th>passSuccess_percentage</th>\n",
       "      <th>shotOnTargetPG</th>\n",
       "      <th>dribbleWonPG</th>\n",
       "      <th>...</th>\n",
       "      <th>keyPassShort</th>\n",
       "      <th>left_side</th>\n",
       "      <th>middle_side</th>\n",
       "      <th>right_side</th>\n",
       "      <th>own_third</th>\n",
       "      <th>middle_third</th>\n",
       "      <th>opposition_third</th>\n",
       "      <th>shot_left_side</th>\n",
       "      <th>shot_middle_side</th>\n",
       "      <th>shot_right_side</th>\n",
       "    </tr>\n",
       "  </thead>\n",
       "  <tbody>\n",
       "    <tr>\n",
       "      <th>0</th>\n",
       "      <td>Argentina</td>\n",
       "      <td>16</td>\n",
       "      <td>6</td>\n",
       "      <td>13.8</td>\n",
       "      <td>11</td>\n",
       "      <td>0</td>\n",
       "      <td>61.1</td>\n",
       "      <td>85.0</td>\n",
       "      <td>4.5</td>\n",
       "      <td>13.5</td>\n",
       "      <td>...</td>\n",
       "      <td>8.8</td>\n",
       "      <td>38%</td>\n",
       "      <td>27%</td>\n",
       "      <td>35%</td>\n",
       "      <td>19%</td>\n",
       "      <td>49%</td>\n",
       "      <td>32%</td>\n",
       "      <td>27%</td>\n",
       "      <td>49%</td>\n",
       "      <td>24%</td>\n",
       "    </tr>\n",
       "    <tr>\n",
       "      <th>1</th>\n",
       "      <td>Australia</td>\n",
       "      <td>25</td>\n",
       "      <td>2</td>\n",
       "      <td>11.0</td>\n",
       "      <td>7</td>\n",
       "      <td>0</td>\n",
       "      <td>50.9</td>\n",
       "      <td>83.7</td>\n",
       "      <td>2.3</td>\n",
       "      <td>11.0</td>\n",
       "      <td>...</td>\n",
       "      <td>6.3</td>\n",
       "      <td>35%</td>\n",
       "      <td>20%</td>\n",
       "      <td>45%</td>\n",
       "      <td>27%</td>\n",
       "      <td>47%</td>\n",
       "      <td>25%</td>\n",
       "      <td>9%</td>\n",
       "      <td>79%</td>\n",
       "      <td>12%</td>\n",
       "    </tr>\n",
       "    <tr>\n",
       "      <th>2</th>\n",
       "      <td>Belgium</td>\n",
       "      <td>3</td>\n",
       "      <td>16</td>\n",
       "      <td>15.1</td>\n",
       "      <td>11</td>\n",
       "      <td>0</td>\n",
       "      <td>52.1</td>\n",
       "      <td>86.3</td>\n",
       "      <td>5.7</td>\n",
       "      <td>13.3</td>\n",
       "      <td>...</td>\n",
       "      <td>10.6</td>\n",
       "      <td>34%</td>\n",
       "      <td>26%</td>\n",
       "      <td>40%</td>\n",
       "      <td>27%</td>\n",
       "      <td>47%</td>\n",
       "      <td>26%</td>\n",
       "      <td>26%</td>\n",
       "      <td>56%</td>\n",
       "      <td>18%</td>\n",
       "    </tr>\n",
       "    <tr>\n",
       "      <th>3</th>\n",
       "      <td>Brazil</td>\n",
       "      <td>5</td>\n",
       "      <td>8</td>\n",
       "      <td>20.8</td>\n",
       "      <td>7</td>\n",
       "      <td>0</td>\n",
       "      <td>56.8</td>\n",
       "      <td>87.9</td>\n",
       "      <td>8.0</td>\n",
       "      <td>14.8</td>\n",
       "      <td>...</td>\n",
       "      <td>13.0</td>\n",
       "      <td>43%</td>\n",
       "      <td>29%</td>\n",
       "      <td>29%</td>\n",
       "      <td>25%</td>\n",
       "      <td>44%</td>\n",
       "      <td>31%</td>\n",
       "      <td>28%</td>\n",
       "      <td>60%</td>\n",
       "      <td>13%</td>\n",
       "    </tr>\n",
       "    <tr>\n",
       "      <th>4</th>\n",
       "      <td>Colombia</td>\n",
       "      <td>10</td>\n",
       "      <td>6</td>\n",
       "      <td>9.8</td>\n",
       "      <td>9</td>\n",
       "      <td>1</td>\n",
       "      <td>50.2</td>\n",
       "      <td>79.9</td>\n",
       "      <td>3.3</td>\n",
       "      <td>7.8</td>\n",
       "      <td>...</td>\n",
       "      <td>5.0</td>\n",
       "      <td>33%</td>\n",
       "      <td>22%</td>\n",
       "      <td>45%</td>\n",
       "      <td>29%</td>\n",
       "      <td>48%</td>\n",
       "      <td>23%</td>\n",
       "      <td>7%</td>\n",
       "      <td>66%</td>\n",
       "      <td>27%</td>\n",
       "    </tr>\n",
       "  </tbody>\n",
       "</table>\n",
       "<p>5 rows × 42 columns</p>\n",
       "</div>"
      ],
      "text/plain": [
       "  country_name  Final_positional_ranking  goal  shotsPerGame  yellow_card  \\\n",
       "0    Argentina                        16     6          13.8           11   \n",
       "1    Australia                        25     2          11.0            7   \n",
       "2      Belgium                         3    16          15.1           11   \n",
       "3       Brazil                         5     8          20.8            7   \n",
       "4     Colombia                        10     6           9.8            9   \n",
       "\n",
       "   red_card  possession_percentage  passSuccess_percentage  shotOnTargetPG  \\\n",
       "0         0                   61.1                    85.0             4.5   \n",
       "1         0                   50.9                    83.7             2.3   \n",
       "2         0                   52.1                    86.3             5.7   \n",
       "3         0                   56.8                    87.9             8.0   \n",
       "4         1                   50.2                    79.9             3.3   \n",
       "\n",
       "   dribbleWonPG  ...  keyPassShort  left_side  middle_side  right_side  \\\n",
       "0          13.5  ...           8.8        38%          27%         35%   \n",
       "1          11.0  ...           6.3        35%          20%         45%   \n",
       "2          13.3  ...          10.6        34%          26%         40%   \n",
       "3          14.8  ...          13.0        43%          29%         29%   \n",
       "4           7.8  ...           5.0        33%          22%         45%   \n",
       "\n",
       "   own_third  middle_third  opposition_third  shot_left_side  \\\n",
       "0        19%           49%               32%             27%   \n",
       "1        27%           47%               25%              9%   \n",
       "2        27%           47%               26%             26%   \n",
       "3        25%           44%               31%             28%   \n",
       "4        29%           48%               23%              7%   \n",
       "\n",
       "   shot_middle_side  shot_right_side  \n",
       "0               49%              24%  \n",
       "1               79%              12%  \n",
       "2               56%              18%  \n",
       "3               60%              13%  \n",
       "4               66%              27%  \n",
       "\n",
       "[5 rows x 42 columns]"
      ]
     },
     "execution_count": 27,
     "metadata": {},
     "output_type": "execute_result"
    }
   ],
   "source": [
    "market_value_all.head()\n",
    "all_football_18.head()"
   ]
  },
  {
   "cell_type": "code",
   "execution_count": 28,
   "metadata": {},
   "outputs": [
    {
     "data": {
      "text/html": [
       "<div>\n",
       "<style scoped>\n",
       "    .dataframe tbody tr th:only-of-type {\n",
       "        vertical-align: middle;\n",
       "    }\n",
       "\n",
       "    .dataframe tbody tr th {\n",
       "        vertical-align: top;\n",
       "    }\n",
       "\n",
       "    .dataframe thead th {\n",
       "        text-align: right;\n",
       "    }\n",
       "</style>\n",
       "<table border=\"1\" class=\"dataframe\">\n",
       "  <thead>\n",
       "    <tr style=\"text-align: right;\">\n",
       "      <th></th>\n",
       "      <th>country_name</th>\n",
       "      <th>Final_positional_ranking</th>\n",
       "      <th>goal</th>\n",
       "      <th>shotsPerGame</th>\n",
       "      <th>yellow_card</th>\n",
       "      <th>red_card</th>\n",
       "      <th>possession_percentage</th>\n",
       "      <th>passSuccess_percentage</th>\n",
       "      <th>shotOnTargetPG</th>\n",
       "      <th>dribbleWonPG</th>\n",
       "      <th>...</th>\n",
       "      <th>keyPassShort</th>\n",
       "      <th>left_side</th>\n",
       "      <th>middle_side</th>\n",
       "      <th>right_side</th>\n",
       "      <th>own_third</th>\n",
       "      <th>middle_third</th>\n",
       "      <th>opposition_third</th>\n",
       "      <th>shot_left_side</th>\n",
       "      <th>shot_middle_side</th>\n",
       "      <th>shot_right_side</th>\n",
       "    </tr>\n",
       "  </thead>\n",
       "  <tbody>\n",
       "    <tr>\n",
       "      <th>2</th>\n",
       "      <td>Belgium</td>\n",
       "      <td>3</td>\n",
       "      <td>16</td>\n",
       "      <td>15.1</td>\n",
       "      <td>11</td>\n",
       "      <td>0</td>\n",
       "      <td>52.1</td>\n",
       "      <td>86.3</td>\n",
       "      <td>5.7</td>\n",
       "      <td>13.3</td>\n",
       "      <td>...</td>\n",
       "      <td>10.6</td>\n",
       "      <td>34%</td>\n",
       "      <td>26%</td>\n",
       "      <td>40%</td>\n",
       "      <td>27%</td>\n",
       "      <td>47%</td>\n",
       "      <td>26%</td>\n",
       "      <td>26%</td>\n",
       "      <td>56%</td>\n",
       "      <td>18%</td>\n",
       "    </tr>\n",
       "    <tr>\n",
       "      <th>6</th>\n",
       "      <td>Croatia</td>\n",
       "      <td>2</td>\n",
       "      <td>14</td>\n",
       "      <td>16.1</td>\n",
       "      <td>15</td>\n",
       "      <td>0</td>\n",
       "      <td>55.4</td>\n",
       "      <td>81.2</td>\n",
       "      <td>4.1</td>\n",
       "      <td>12.0</td>\n",
       "      <td>...</td>\n",
       "      <td>7.4</td>\n",
       "      <td>43%</td>\n",
       "      <td>23%</td>\n",
       "      <td>34%</td>\n",
       "      <td>26%</td>\n",
       "      <td>47%</td>\n",
       "      <td>27%</td>\n",
       "      <td>23%</td>\n",
       "      <td>64%</td>\n",
       "      <td>13%</td>\n",
       "    </tr>\n",
       "    <tr>\n",
       "      <th>10</th>\n",
       "      <td>France</td>\n",
       "      <td>1</td>\n",
       "      <td>14</td>\n",
       "      <td>11.6</td>\n",
       "      <td>12</td>\n",
       "      <td>0</td>\n",
       "      <td>49.6</td>\n",
       "      <td>81.5</td>\n",
       "      <td>4.1</td>\n",
       "      <td>11.0</td>\n",
       "      <td>...</td>\n",
       "      <td>7.4</td>\n",
       "      <td>36%</td>\n",
       "      <td>21%</td>\n",
       "      <td>42%</td>\n",
       "      <td>27%</td>\n",
       "      <td>47%</td>\n",
       "      <td>26%</td>\n",
       "      <td>17%</td>\n",
       "      <td>60%</td>\n",
       "      <td>23%</td>\n",
       "    </tr>\n",
       "    <tr>\n",
       "      <th>9</th>\n",
       "      <td>England</td>\n",
       "      <td>4</td>\n",
       "      <td>12</td>\n",
       "      <td>13.4</td>\n",
       "      <td>8</td>\n",
       "      <td>0</td>\n",
       "      <td>53.5</td>\n",
       "      <td>85.3</td>\n",
       "      <td>4.1</td>\n",
       "      <td>10.0</td>\n",
       "      <td>...</td>\n",
       "      <td>6.6</td>\n",
       "      <td>38%</td>\n",
       "      <td>23%</td>\n",
       "      <td>39%</td>\n",
       "      <td>22%</td>\n",
       "      <td>49%</td>\n",
       "      <td>30%</td>\n",
       "      <td>11%</td>\n",
       "      <td>73%</td>\n",
       "      <td>16%</td>\n",
       "    </tr>\n",
       "    <tr>\n",
       "      <th>22</th>\n",
       "      <td>Russia</td>\n",
       "      <td>7</td>\n",
       "      <td>11</td>\n",
       "      <td>9.6</td>\n",
       "      <td>6</td>\n",
       "      <td>1</td>\n",
       "      <td>39.5</td>\n",
       "      <td>71.0</td>\n",
       "      <td>3.4</td>\n",
       "      <td>7.4</td>\n",
       "      <td>...</td>\n",
       "      <td>5.4</td>\n",
       "      <td>36%</td>\n",
       "      <td>22%</td>\n",
       "      <td>43%</td>\n",
       "      <td>27%</td>\n",
       "      <td>47%</td>\n",
       "      <td>27%</td>\n",
       "      <td>16%</td>\n",
       "      <td>64%</td>\n",
       "      <td>21%</td>\n",
       "    </tr>\n",
       "    <tr>\n",
       "      <th>3</th>\n",
       "      <td>Brazil</td>\n",
       "      <td>5</td>\n",
       "      <td>8</td>\n",
       "      <td>20.8</td>\n",
       "      <td>7</td>\n",
       "      <td>0</td>\n",
       "      <td>56.8</td>\n",
       "      <td>87.9</td>\n",
       "      <td>8.0</td>\n",
       "      <td>14.8</td>\n",
       "      <td>...</td>\n",
       "      <td>13.0</td>\n",
       "      <td>43%</td>\n",
       "      <td>29%</td>\n",
       "      <td>29%</td>\n",
       "      <td>25%</td>\n",
       "      <td>44%</td>\n",
       "      <td>31%</td>\n",
       "      <td>28%</td>\n",
       "      <td>60%</td>\n",
       "      <td>13%</td>\n",
       "    </tr>\n",
       "    <tr>\n",
       "      <th>27</th>\n",
       "      <td>Spain</td>\n",
       "      <td>12</td>\n",
       "      <td>7</td>\n",
       "      <td>18.0</td>\n",
       "      <td>2</td>\n",
       "      <td>0</td>\n",
       "      <td>69.2</td>\n",
       "      <td>91.0</td>\n",
       "      <td>6.3</td>\n",
       "      <td>14.5</td>\n",
       "      <td>...</td>\n",
       "      <td>8.5</td>\n",
       "      <td>47%</td>\n",
       "      <td>24%</td>\n",
       "      <td>30%</td>\n",
       "      <td>19%</td>\n",
       "      <td>46%</td>\n",
       "      <td>35%</td>\n",
       "      <td>12%</td>\n",
       "      <td>73%</td>\n",
       "      <td>15%</td>\n",
       "    </tr>\n",
       "    <tr>\n",
       "      <th>31</th>\n",
       "      <td>Uruguay</td>\n",
       "      <td>6</td>\n",
       "      <td>7</td>\n",
       "      <td>12.0</td>\n",
       "      <td>3</td>\n",
       "      <td>0</td>\n",
       "      <td>47.7</td>\n",
       "      <td>79.6</td>\n",
       "      <td>4.2</td>\n",
       "      <td>7.8</td>\n",
       "      <td>...</td>\n",
       "      <td>6.2</td>\n",
       "      <td>32%</td>\n",
       "      <td>27%</td>\n",
       "      <td>40%</td>\n",
       "      <td>29%</td>\n",
       "      <td>46%</td>\n",
       "      <td>25%</td>\n",
       "      <td>15%</td>\n",
       "      <td>64%</td>\n",
       "      <td>21%</td>\n",
       "    </tr>\n",
       "    <tr>\n",
       "      <th>0</th>\n",
       "      <td>Argentina</td>\n",
       "      <td>16</td>\n",
       "      <td>6</td>\n",
       "      <td>13.8</td>\n",
       "      <td>11</td>\n",
       "      <td>0</td>\n",
       "      <td>61.1</td>\n",
       "      <td>85.0</td>\n",
       "      <td>4.5</td>\n",
       "      <td>13.5</td>\n",
       "      <td>...</td>\n",
       "      <td>8.8</td>\n",
       "      <td>38%</td>\n",
       "      <td>27%</td>\n",
       "      <td>35%</td>\n",
       "      <td>19%</td>\n",
       "      <td>49%</td>\n",
       "      <td>32%</td>\n",
       "      <td>27%</td>\n",
       "      <td>49%</td>\n",
       "      <td>24%</td>\n",
       "    </tr>\n",
       "    <tr>\n",
       "      <th>4</th>\n",
       "      <td>Colombia</td>\n",
       "      <td>10</td>\n",
       "      <td>6</td>\n",
       "      <td>9.8</td>\n",
       "      <td>9</td>\n",
       "      <td>1</td>\n",
       "      <td>50.2</td>\n",
       "      <td>79.9</td>\n",
       "      <td>3.3</td>\n",
       "      <td>7.8</td>\n",
       "      <td>...</td>\n",
       "      <td>5.0</td>\n",
       "      <td>33%</td>\n",
       "      <td>22%</td>\n",
       "      <td>45%</td>\n",
       "      <td>29%</td>\n",
       "      <td>48%</td>\n",
       "      <td>23%</td>\n",
       "      <td>7%</td>\n",
       "      <td>66%</td>\n",
       "      <td>27%</td>\n",
       "    </tr>\n",
       "  </tbody>\n",
       "</table>\n",
       "<p>10 rows × 42 columns</p>\n",
       "</div>"
      ],
      "text/plain": [
       "   country_name  Final_positional_ranking  goal  shotsPerGame  yellow_card  \\\n",
       "2       Belgium                         3    16          15.1           11   \n",
       "6       Croatia                         2    14          16.1           15   \n",
       "10       France                         1    14          11.6           12   \n",
       "9       England                         4    12          13.4            8   \n",
       "22       Russia                         7    11           9.6            6   \n",
       "3        Brazil                         5     8          20.8            7   \n",
       "27        Spain                        12     7          18.0            2   \n",
       "31      Uruguay                         6     7          12.0            3   \n",
       "0     Argentina                        16     6          13.8           11   \n",
       "4      Colombia                        10     6           9.8            9   \n",
       "\n",
       "    red_card  possession_percentage  passSuccess_percentage  shotOnTargetPG  \\\n",
       "2          0                   52.1                    86.3             5.7   \n",
       "6          0                   55.4                    81.2             4.1   \n",
       "10         0                   49.6                    81.5             4.1   \n",
       "9          0                   53.5                    85.3             4.1   \n",
       "22         1                   39.5                    71.0             3.4   \n",
       "3          0                   56.8                    87.9             8.0   \n",
       "27         0                   69.2                    91.0             6.3   \n",
       "31         0                   47.7                    79.6             4.2   \n",
       "0          0                   61.1                    85.0             4.5   \n",
       "4          1                   50.2                    79.9             3.3   \n",
       "\n",
       "    dribbleWonPG  ...  keyPassShort  left_side  middle_side  right_side  \\\n",
       "2           13.3  ...          10.6        34%          26%         40%   \n",
       "6           12.0  ...           7.4        43%          23%         34%   \n",
       "10          11.0  ...           7.4        36%          21%         42%   \n",
       "9           10.0  ...           6.6        38%          23%         39%   \n",
       "22           7.4  ...           5.4        36%          22%         43%   \n",
       "3           14.8  ...          13.0        43%          29%         29%   \n",
       "27          14.5  ...           8.5        47%          24%         30%   \n",
       "31           7.8  ...           6.2        32%          27%         40%   \n",
       "0           13.5  ...           8.8        38%          27%         35%   \n",
       "4            7.8  ...           5.0        33%          22%         45%   \n",
       "\n",
       "    own_third  middle_third  opposition_third  shot_left_side  \\\n",
       "2         27%           47%               26%             26%   \n",
       "6         26%           47%               27%             23%   \n",
       "10        27%           47%               26%             17%   \n",
       "9         22%           49%               30%             11%   \n",
       "22        27%           47%               27%             16%   \n",
       "3         25%           44%               31%             28%   \n",
       "27        19%           46%               35%             12%   \n",
       "31        29%           46%               25%             15%   \n",
       "0         19%           49%               32%             27%   \n",
       "4         29%           48%               23%              7%   \n",
       "\n",
       "    shot_middle_side  shot_right_side  \n",
       "2                56%              18%  \n",
       "6                64%              13%  \n",
       "10               60%              23%  \n",
       "9                73%              16%  \n",
       "22               64%              21%  \n",
       "3                60%              13%  \n",
       "27               73%              15%  \n",
       "31               64%              21%  \n",
       "0                49%              24%  \n",
       "4                66%              27%  \n",
       "\n",
       "[10 rows x 42 columns]"
      ]
     },
     "execution_count": 28,
     "metadata": {},
     "output_type": "execute_result"
    }
   ],
   "source": [
    "df_top_goals = all_football_18.nlargest(10,'goal')\n",
    "df_top_goals = df_top_goals.sort_values(\"goal\", axis=0, ascending=False)\n",
    "df_top_goals"
   ]
  },
  {
   "cell_type": "code",
   "execution_count": 29,
   "metadata": {},
   "outputs": [],
   "source": [
    "countries = list(df_top_goals[\"country_name\"])\n",
    "top_goals = list(df_top_goals[\"goal\"])"
   ]
  },
  {
   "cell_type": "code",
   "execution_count": 30,
   "metadata": {},
   "outputs": [
    {
     "data": {
      "text/plain": [
       "Text(0.5, 0, 'Countries')"
      ]
     },
     "execution_count": 30,
     "metadata": {},
     "output_type": "execute_result"
    },
    {
     "data": {
      "text/plain": [
       "Text(0, 0.5, 'No of Goals')"
      ]
     },
     "execution_count": 30,
     "metadata": {},
     "output_type": "execute_result"
    },
    {
     "data": {
      "text/plain": [
       "Text(0.5, 1.0, 'Top 10 Countries By Goals')"
      ]
     },
     "execution_count": 30,
     "metadata": {},
     "output_type": "execute_result"
    },
    {
     "data": {
      "text/plain": [
       "<BarContainer object of 10 artists>"
      ]
     },
     "execution_count": 30,
     "metadata": {},
     "output_type": "execute_result"
    },
    {
     "data": {
      "image/png": "[encoded data removed]",
      "text/plain": [
       "<Figure size 432x288 with 1 Axes>"
      ]
     },
     "metadata": {
      "needs_background": "light"
     },
     "output_type": "display_data"
    }
   ],
   "source": [
    "x_pos = [1,2,3,4,5,6,7,8,9,10]\n",
    "ticks = plt.xticks(x_pos, countries)\n",
    "plt.xlabel(\"Countries\")\n",
    "plt.ylabel(\"No of Goals\")\n",
    "plt.title(\"Top 10 Countries By Goals\")\n",
    "plt.bar(x_pos, top_goals, color ='b', width = 0.8, align = 'center')\n",
    "ticks2 = plt.xticks(rotation=45)\n",
    "plt.savefig('Top 10 Countries By Goals.png')\n",
    "\n",
    "plt.show()"
   ]
  },
  {
   "cell_type": "code",
   "execution_count": 31,
   "metadata": {},
   "outputs": [],
   "source": [
    "df_finalists = all_football_18.nsmallest(10,'Final_positional_ranking')"
   ]
  },
  {
   "cell_type": "code",
   "execution_count": 32,
   "metadata": {},
   "outputs": [
    {
     "data": {
      "text/plain": [
       "Text(0.5, 1.0, \"Top 10 Finalists' Goals\")"
      ]
     },
     "execution_count": 32,
     "metadata": {},
     "output_type": "execute_result"
    },
    {
     "data": {
      "text/plain": [
       "<BarContainer object of 10 artists>"
      ]
     },
     "execution_count": 32,
     "metadata": {},
     "output_type": "execute_result"
    },
    {
     "data": {
      "image/png": "[encoded data removed]",
      "text/plain": [
       "<Figure size 432x288 with 1 Axes>"
      ]
     },
     "metadata": {
      "needs_background": "light"
     },
     "output_type": "display_data"
    }
   ],
   "source": [
    "countries = list(df_finalists[\"country_name\"])\n",
    "winners_goals = list(df_finalists[\"goal\"])\n",
    "\n",
    "x_pos = [1,2,3,4,5,6,7,8,9,10]\n",
    "_ = plt.xticks(x_pos, countries)\n",
    "_ = plt.xlabel(\"Countries\")\n",
    "_ = plt.ylabel(\"No of Goals\")\n",
    "plt.title(\"Top 10 Finalists' Goals\")\n",
    "plt.bar(x_pos, winners_goals, color ='b', width = 0.8, align = 'center')\n",
    "_ = plt.xticks(rotation=45)\n",
    "plt.savefig(\"Top 10 Finalists' Goals\")\n",
    "plt.show()"
   ]
  },
  {
   "cell_type": "code",
   "execution_count": 33,
   "metadata": {},
   "outputs": [
    {
     "data": {
      "text/html": [
       "<div>\n",
       "<style scoped>\n",
       "    .dataframe tbody tr th:only-of-type {\n",
       "        vertical-align: middle;\n",
       "    }\n",
       "\n",
       "    .dataframe tbody tr th {\n",
       "        vertical-align: top;\n",
       "    }\n",
       "\n",
       "    .dataframe thead th {\n",
       "        text-align: right;\n",
       "    }\n",
       "</style>\n",
       "<table border=\"1\" class=\"dataframe\">\n",
       "  <thead>\n",
       "    <tr style=\"text-align: right;\">\n",
       "      <th></th>\n",
       "      <th>country_name</th>\n",
       "      <th>Final_positional_ranking</th>\n",
       "      <th>goal</th>\n",
       "      <th>shotsPerGame</th>\n",
       "      <th>yellow_card</th>\n",
       "      <th>red_card</th>\n",
       "      <th>possession_percentage</th>\n",
       "      <th>passSuccess_percentage</th>\n",
       "      <th>shotOnTargetPG</th>\n",
       "      <th>dribbleWonPG</th>\n",
       "      <th>...</th>\n",
       "      <th>keyPassShort</th>\n",
       "      <th>left_side</th>\n",
       "      <th>middle_side</th>\n",
       "      <th>right_side</th>\n",
       "      <th>own_third</th>\n",
       "      <th>middle_third</th>\n",
       "      <th>opposition_third</th>\n",
       "      <th>shot_left_side</th>\n",
       "      <th>shot_middle_side</th>\n",
       "      <th>shot_right_side</th>\n",
       "    </tr>\n",
       "  </thead>\n",
       "  <tbody>\n",
       "    <tr>\n",
       "      <th>10</th>\n",
       "      <td>France</td>\n",
       "      <td>1</td>\n",
       "      <td>14</td>\n",
       "      <td>11.6</td>\n",
       "      <td>12</td>\n",
       "      <td>0</td>\n",
       "      <td>49.6</td>\n",
       "      <td>81.5</td>\n",
       "      <td>4.1</td>\n",
       "      <td>11.0</td>\n",
       "      <td>...</td>\n",
       "      <td>7.4</td>\n",
       "      <td>36%</td>\n",
       "      <td>21%</td>\n",
       "      <td>42%</td>\n",
       "      <td>27%</td>\n",
       "      <td>47%</td>\n",
       "      <td>26%</td>\n",
       "      <td>17%</td>\n",
       "      <td>60%</td>\n",
       "      <td>23%</td>\n",
       "    </tr>\n",
       "    <tr>\n",
       "      <th>6</th>\n",
       "      <td>Croatia</td>\n",
       "      <td>2</td>\n",
       "      <td>14</td>\n",
       "      <td>16.1</td>\n",
       "      <td>15</td>\n",
       "      <td>0</td>\n",
       "      <td>55.4</td>\n",
       "      <td>81.2</td>\n",
       "      <td>4.1</td>\n",
       "      <td>12.0</td>\n",
       "      <td>...</td>\n",
       "      <td>7.4</td>\n",
       "      <td>43%</td>\n",
       "      <td>23%</td>\n",
       "      <td>34%</td>\n",
       "      <td>26%</td>\n",
       "      <td>47%</td>\n",
       "      <td>27%</td>\n",
       "      <td>23%</td>\n",
       "      <td>64%</td>\n",
       "      <td>13%</td>\n",
       "    </tr>\n",
       "    <tr>\n",
       "      <th>2</th>\n",
       "      <td>Belgium</td>\n",
       "      <td>3</td>\n",
       "      <td>16</td>\n",
       "      <td>15.1</td>\n",
       "      <td>11</td>\n",
       "      <td>0</td>\n",
       "      <td>52.1</td>\n",
       "      <td>86.3</td>\n",
       "      <td>5.7</td>\n",
       "      <td>13.3</td>\n",
       "      <td>...</td>\n",
       "      <td>10.6</td>\n",
       "      <td>34%</td>\n",
       "      <td>26%</td>\n",
       "      <td>40%</td>\n",
       "      <td>27%</td>\n",
       "      <td>47%</td>\n",
       "      <td>26%</td>\n",
       "      <td>26%</td>\n",
       "      <td>56%</td>\n",
       "      <td>18%</td>\n",
       "    </tr>\n",
       "    <tr>\n",
       "      <th>9</th>\n",
       "      <td>England</td>\n",
       "      <td>4</td>\n",
       "      <td>12</td>\n",
       "      <td>13.4</td>\n",
       "      <td>8</td>\n",
       "      <td>0</td>\n",
       "      <td>53.5</td>\n",
       "      <td>85.3</td>\n",
       "      <td>4.1</td>\n",
       "      <td>10.0</td>\n",
       "      <td>...</td>\n",
       "      <td>6.6</td>\n",
       "      <td>38%</td>\n",
       "      <td>23%</td>\n",
       "      <td>39%</td>\n",
       "      <td>22%</td>\n",
       "      <td>49%</td>\n",
       "      <td>30%</td>\n",
       "      <td>11%</td>\n",
       "      <td>73%</td>\n",
       "      <td>16%</td>\n",
       "    </tr>\n",
       "    <tr>\n",
       "      <th>3</th>\n",
       "      <td>Brazil</td>\n",
       "      <td>5</td>\n",
       "      <td>8</td>\n",
       "      <td>20.8</td>\n",
       "      <td>7</td>\n",
       "      <td>0</td>\n",
       "      <td>56.8</td>\n",
       "      <td>87.9</td>\n",
       "      <td>8.0</td>\n",
       "      <td>14.8</td>\n",
       "      <td>...</td>\n",
       "      <td>13.0</td>\n",
       "      <td>43%</td>\n",
       "      <td>29%</td>\n",
       "      <td>29%</td>\n",
       "      <td>25%</td>\n",
       "      <td>44%</td>\n",
       "      <td>31%</td>\n",
       "      <td>28%</td>\n",
       "      <td>60%</td>\n",
       "      <td>13%</td>\n",
       "    </tr>\n",
       "    <tr>\n",
       "      <th>31</th>\n",
       "      <td>Uruguay</td>\n",
       "      <td>6</td>\n",
       "      <td>7</td>\n",
       "      <td>12.0</td>\n",
       "      <td>3</td>\n",
       "      <td>0</td>\n",
       "      <td>47.7</td>\n",
       "      <td>79.6</td>\n",
       "      <td>4.2</td>\n",
       "      <td>7.8</td>\n",
       "      <td>...</td>\n",
       "      <td>6.2</td>\n",
       "      <td>32%</td>\n",
       "      <td>27%</td>\n",
       "      <td>40%</td>\n",
       "      <td>29%</td>\n",
       "      <td>46%</td>\n",
       "      <td>25%</td>\n",
       "      <td>15%</td>\n",
       "      <td>64%</td>\n",
       "      <td>21%</td>\n",
       "    </tr>\n",
       "    <tr>\n",
       "      <th>22</th>\n",
       "      <td>Russia</td>\n",
       "      <td>7</td>\n",
       "      <td>11</td>\n",
       "      <td>9.6</td>\n",
       "      <td>6</td>\n",
       "      <td>1</td>\n",
       "      <td>39.5</td>\n",
       "      <td>71.0</td>\n",
       "      <td>3.4</td>\n",
       "      <td>7.4</td>\n",
       "      <td>...</td>\n",
       "      <td>5.4</td>\n",
       "      <td>36%</td>\n",
       "      <td>22%</td>\n",
       "      <td>43%</td>\n",
       "      <td>27%</td>\n",
       "      <td>47%</td>\n",
       "      <td>27%</td>\n",
       "      <td>16%</td>\n",
       "      <td>64%</td>\n",
       "      <td>21%</td>\n",
       "    </tr>\n",
       "    <tr>\n",
       "      <th>28</th>\n",
       "      <td>Sweden</td>\n",
       "      <td>8</td>\n",
       "      <td>6</td>\n",
       "      <td>11.0</td>\n",
       "      <td>8</td>\n",
       "      <td>0</td>\n",
       "      <td>41.3</td>\n",
       "      <td>71.9</td>\n",
       "      <td>4.0</td>\n",
       "      <td>6.8</td>\n",
       "      <td>...</td>\n",
       "      <td>6.2</td>\n",
       "      <td>35%</td>\n",
       "      <td>29%</td>\n",
       "      <td>36%</td>\n",
       "      <td>32%</td>\n",
       "      <td>44%</td>\n",
       "      <td>24%</td>\n",
       "      <td>16%</td>\n",
       "      <td>75%</td>\n",
       "      <td>9%</td>\n",
       "    </tr>\n",
       "    <tr>\n",
       "      <th>15</th>\n",
       "      <td>Mexico</td>\n",
       "      <td>9</td>\n",
       "      <td>3</td>\n",
       "      <td>15.0</td>\n",
       "      <td>9</td>\n",
       "      <td>0</td>\n",
       "      <td>52.3</td>\n",
       "      <td>83.6</td>\n",
       "      <td>3.3</td>\n",
       "      <td>14.0</td>\n",
       "      <td>...</td>\n",
       "      <td>9.8</td>\n",
       "      <td>39%</td>\n",
       "      <td>25%</td>\n",
       "      <td>36%</td>\n",
       "      <td>30%</td>\n",
       "      <td>44%</td>\n",
       "      <td>27%</td>\n",
       "      <td>17%</td>\n",
       "      <td>55%</td>\n",
       "      <td>28%</td>\n",
       "    </tr>\n",
       "    <tr>\n",
       "      <th>4</th>\n",
       "      <td>Colombia</td>\n",
       "      <td>10</td>\n",
       "      <td>6</td>\n",
       "      <td>9.8</td>\n",
       "      <td>9</td>\n",
       "      <td>1</td>\n",
       "      <td>50.2</td>\n",
       "      <td>79.9</td>\n",
       "      <td>3.3</td>\n",
       "      <td>7.8</td>\n",
       "      <td>...</td>\n",
       "      <td>5.0</td>\n",
       "      <td>33%</td>\n",
       "      <td>22%</td>\n",
       "      <td>45%</td>\n",
       "      <td>29%</td>\n",
       "      <td>48%</td>\n",
       "      <td>23%</td>\n",
       "      <td>7%</td>\n",
       "      <td>66%</td>\n",
       "      <td>27%</td>\n",
       "    </tr>\n",
       "  </tbody>\n",
       "</table>\n",
       "<p>10 rows × 42 columns</p>\n",
       "</div>"
      ],
      "text/plain": [
       "   country_name  Final_positional_ranking  goal  shotsPerGame  yellow_card  \\\n",
       "10       France                         1    14          11.6           12   \n",
       "6       Croatia                         2    14          16.1           15   \n",
       "2       Belgium                         3    16          15.1           11   \n",
       "9       England                         4    12          13.4            8   \n",
       "3        Brazil                         5     8          20.8            7   \n",
       "31      Uruguay                         6     7          12.0            3   \n",
       "22       Russia                         7    11           9.6            6   \n",
       "28       Sweden                         8     6          11.0            8   \n",
       "15       Mexico                         9     3          15.0            9   \n",
       "4      Colombia                        10     6           9.8            9   \n",
       "\n",
       "    red_card  possession_percentage  passSuccess_percentage  shotOnTargetPG  \\\n",
       "10         0                   49.6                    81.5             4.1   \n",
       "6          0                   55.4                    81.2             4.1   \n",
       "2          0                   52.1                    86.3             5.7   \n",
       "9          0                   53.5                    85.3             4.1   \n",
       "3          0                   56.8                    87.9             8.0   \n",
       "31         0                   47.7                    79.6             4.2   \n",
       "22         1                   39.5                    71.0             3.4   \n",
       "28         0                   41.3                    71.9             4.0   \n",
       "15         0                   52.3                    83.6             3.3   \n",
       "4          1                   50.2                    79.9             3.3   \n",
       "\n",
       "    dribbleWonPG  ...  keyPassShort  left_side  middle_side  right_side  \\\n",
       "10          11.0  ...           7.4        36%          21%         42%   \n",
       "6           12.0  ...           7.4        43%          23%         34%   \n",
       "2           13.3  ...          10.6        34%          26%         40%   \n",
       "9           10.0  ...           6.6        38%          23%         39%   \n",
       "3           14.8  ...          13.0        43%          29%         29%   \n",
       "31           7.8  ...           6.2        32%          27%         40%   \n",
       "22           7.4  ...           5.4        36%          22%         43%   \n",
       "28           6.8  ...           6.2        35%          29%         36%   \n",
       "15          14.0  ...           9.8        39%          25%         36%   \n",
       "4            7.8  ...           5.0        33%          22%         45%   \n",
       "\n",
       "    own_third  middle_third  opposition_third  shot_left_side  \\\n",
       "10        27%           47%               26%             17%   \n",
       "6         26%           47%               27%             23%   \n",
       "2         27%           47%               26%             26%   \n",
       "9         22%           49%               30%             11%   \n",
       "3         25%           44%               31%             28%   \n",
       "31        29%           46%               25%             15%   \n",
       "22        27%           47%               27%             16%   \n",
       "28        32%           44%               24%             16%   \n",
       "15        30%           44%               27%             17%   \n",
       "4         29%           48%               23%              7%   \n",
       "\n",
       "    shot_middle_side  shot_right_side  \n",
       "10               60%              23%  \n",
       "6                64%              13%  \n",
       "2                56%              18%  \n",
       "9                73%              16%  \n",
       "3                60%              13%  \n",
       "31               64%              21%  \n",
       "22               64%              21%  \n",
       "28               75%               9%  \n",
       "15               55%              28%  \n",
       "4                66%              27%  \n",
       "\n",
       "[10 rows x 42 columns]"
      ]
     },
     "execution_count": 33,
     "metadata": {},
     "output_type": "execute_result"
    }
   ],
   "source": [
    "df_finalists = all_football_18.nsmallest(10,'Final_positional_ranking')\n",
    "df_finalists"
   ]
  },
  {
   "cell_type": "code",
   "execution_count": 34,
   "metadata": {
    "scrolled": true
   },
   "outputs": [
    {
     "data": {
      "text/plain": [
       "Text(0.5, 0, 'Countries')"
      ]
     },
     "execution_count": 34,
     "metadata": {},
     "output_type": "execute_result"
    },
    {
     "data": {
      "text/plain": [
       "Text(0, 0.5, 'No of Goals')"
      ]
     },
     "execution_count": 34,
     "metadata": {},
     "output_type": "execute_result"
    },
    {
     "data": {
      "text/plain": [
       "Text(0.5, 1.0, \"Top 10 Finalists' Goals\")"
      ]
     },
     "execution_count": 34,
     "metadata": {},
     "output_type": "execute_result"
    },
    {
     "data": {
      "text/plain": [
       "<BarContainer object of 10 artists>"
      ]
     },
     "execution_count": 34,
     "metadata": {},
     "output_type": "execute_result"
    },
    {
     "data": {
      "image/png": "[encoded data removed]",
      "text/plain": [
       "<Figure size 432x288 with 1 Axes>"
      ]
     },
     "metadata": {
      "needs_background": "light"
     },
     "output_type": "display_data"
    }
   ],
   "source": [
    "countries = list(df_finalists[\"country_name\"])\n",
    "winners_goals = list(df_finalists[\"goal\"])\n",
    "\n",
    "x_pos = [1,2,3,4,5,6,7,8,9,10]\n",
    "xticks_goals = plt.xticks(x_pos, countries, rotation = 45) \n",
    "#creating a variable so that when we plot it, \n",
    "#there is no long output above the graph\n",
    "plt.xlabel(\"Countries\")\n",
    "plt.ylabel(\"No of Goals\")\n",
    "plt.title(\"Top 10 Finalists' Goals\")\n",
    "plt.bar(x_pos, winners_goals, color ='b', width = 0.8, align = 'center')\n",
    "plt.savefig(\"Top 10 Finalists' Goals\")\n",
    "plt.show()\n"
   ]
  },
  {
   "cell_type": "code",
   "execution_count": 35,
   "metadata": {},
   "outputs": [
    {
     "data": {
      "text/plain": [
       "Text(0.5, 0, 'Countries')"
      ]
     },
     "execution_count": 35,
     "metadata": {},
     "output_type": "execute_result"
    },
    {
     "data": {
      "text/plain": [
       "Text(0, 0.5, 'Possession %')"
      ]
     },
     "execution_count": 35,
     "metadata": {},
     "output_type": "execute_result"
    },
    {
     "data": {
      "text/plain": [
       "Text(0.5, 1.0, \"Top 10 Finalists' Possession Percentage\")"
      ]
     },
     "execution_count": 35,
     "metadata": {},
     "output_type": "execute_result"
    },
    {
     "data": {
      "text/plain": [
       "<BarContainer object of 10 artists>"
      ]
     },
     "execution_count": 35,
     "metadata": {},
     "output_type": "execute_result"
    },
    {
     "data": {
      "image/png": "[encoded data removed]",
      "text/plain": [
       "<Figure size 432x288 with 1 Axes>"
      ]
     },
     "metadata": {
      "needs_background": "light"
     },
     "output_type": "display_data"
    }
   ],
   "source": [
    "countries = list(df_finalists[\"country_name\"])\n",
    "winners_possession = list(df_finalists[\"possession_percentage\"])\n",
    "\n",
    "x_pos = [1,2,3,4,5,6,7,8,9,10]\n",
    "xticks_possession = plt.xticks(x_pos, countries, rotation=45)\n",
    "plt.xlabel(\"Countries\")\n",
    "plt.ylabel(\"Possession %\")\n",
    "plt.title(\"Top 10 Finalists' Possession Percentage\")\n",
    "plt.bar(x_pos, winners_possession, color ='b', width = 0.8, align = 'center')\n",
    "plt.savefig(\"Top 10 Finalists' Possession Percentage\")\n",
    "plt.show()\n"
   ]
  },
  {
   "cell_type": "code",
   "execution_count": 36,
   "metadata": {},
   "outputs": [
    {
     "data": {
      "text/plain": [
       "Text(0.5, 0, 'Countries')"
      ]
     },
     "execution_count": 36,
     "metadata": {},
     "output_type": "execute_result"
    },
    {
     "data": {
      "text/plain": [
       "Text(0, 0.5, 'Key Short Passes')"
      ]
     },
     "execution_count": 36,
     "metadata": {},
     "output_type": "execute_result"
    },
    {
     "data": {
      "text/plain": [
       "Text(0.5, 1.0, \"Top 10 Finalists' Key Short Passes\")"
      ]
     },
     "execution_count": 36,
     "metadata": {},
     "output_type": "execute_result"
    },
    {
     "data": {
      "text/plain": [
       "<BarContainer object of 10 artists>"
      ]
     },
     "execution_count": 36,
     "metadata": {},
     "output_type": "execute_result"
    },
    {
     "data": {
      "image/png": "[encoded data removed]",
      "text/plain": [
       "<Figure size 432x288 with 1 Axes>"
      ]
     },
     "metadata": {
      "needs_background": "light"
     },
     "output_type": "display_data"
    }
   ],
   "source": [
    "countries = list(df_finalists[\"country_name\"])\n",
    "winners_keyPassShort = list(df_finalists[\"keyPassShort\"])\n",
    "\n",
    "x_pos = [1,2,3,4,5,6,7,8,9,10]\n",
    "xticks_keypassshort = plt.xticks(x_pos, countries, rotation=45)\n",
    "plt.xlabel(\"Countries\")\n",
    "plt.ylabel(\"Key Short Passes\")\n",
    "plt.title(\"Top 10 Finalists' Key Short Passes\")\n",
    "plt.bar(x_pos, winners_keyPassShort, color ='b', width = 0.8, align = 'center')\n",
    "plt.savefig(\"Top 10 Finalists' Key Short Passes\")\n",
    "plt.show()\n"
   ]
  },
  {
   "cell_type": "code",
   "execution_count": 37,
   "metadata": {
    "scrolled": true
   },
   "outputs": [
    {
     "data": {
      "text/plain": [
       "Text(0.5, 0, 'Countries')"
      ]
     },
     "execution_count": 37,
     "metadata": {},
     "output_type": "execute_result"
    },
    {
     "data": {
      "text/plain": [
       "Text(0, 0.5, 'Inaccurate Long Passes')"
      ]
     },
     "execution_count": 37,
     "metadata": {},
     "output_type": "execute_result"
    },
    {
     "data": {
      "text/plain": [
       "Text(0.5, 1.0, \"Top 10 Finalists' Inaccurate Long Passes\")"
      ]
     },
     "execution_count": 37,
     "metadata": {},
     "output_type": "execute_result"
    },
    {
     "data": {
      "text/plain": [
       "<BarContainer object of 10 artists>"
      ]
     },
     "execution_count": 37,
     "metadata": {},
     "output_type": "execute_result"
    },
    {
     "data": {
      "image/png": "[encoded data removed]",
      "text/plain": [
       "<Figure size 432x288 with 1 Axes>"
      ]
     },
     "metadata": {
      "needs_background": "light"
     },
     "output_type": "display_data"
    }
   ],
   "source": [
    "winners_pass_long_inac = list(df_finalists[\"passLongBallInaccurate\"])\n",
    "\n",
    "x_pos = [1,2,3,4,5,6,7,8,9,10]\n",
    "xticks_passlongInac = plt.xticks(x_pos, countries, rotation=45)\n",
    "plt.xlabel(\"Countries\")\n",
    "plt.ylabel(\"Inaccurate Long Passes\")\n",
    "plt.title(\"Top 10 Finalists' Inaccurate Long Passes\")\n",
    "plt.bar(x_pos, winners_pass_long_inac, color ='b', width = 0.8, align = 'center')\n",
    "plt.savefig(\"Top 10 Finalists' Inaccurate Long Passes\")\n",
    "plt.show()\n"
   ]
  },
  {
   "cell_type": "code",
   "execution_count": 38,
   "metadata": {},
   "outputs": [
    {
     "data": {
      "text/plain": [
       "Text(0.5, 0, 'Countries')"
      ]
     },
     "execution_count": 38,
     "metadata": {},
     "output_type": "execute_result"
    },
    {
     "data": {
      "text/plain": [
       "Text(0, 0.5, 'Accurate Short Passes')"
      ]
     },
     "execution_count": 38,
     "metadata": {},
     "output_type": "execute_result"
    },
    {
     "data": {
      "text/plain": [
       "Text(0.5, 1.0, \"Top 10 Finalists' Accurate Short Passes\")"
      ]
     },
     "execution_count": 38,
     "metadata": {},
     "output_type": "execute_result"
    },
    {
     "data": {
      "text/plain": [
       "<BarContainer object of 10 artists>"
      ]
     },
     "execution_count": 38,
     "metadata": {},
     "output_type": "execute_result"
    },
    {
     "data": {
      "image/png": "[encoded data removed]",
      "text/plain": [
       "<Figure size 432x288 with 1 Axes>"
      ]
     },
     "metadata": {
      "needs_background": "light"
     },
     "output_type": "display_data"
    }
   ],
   "source": [
    "winners_pass_short_ac = list(df_finalists[\"shortPassAccurate\"])\n",
    "\n",
    "x_pos = [1,2,3,4,5,6,7,8,9,10]\n",
    "xticks_passShort_ac = plt.xticks(x_pos, countries,rotation=45)\n",
    "plt.xlabel(\"Countries\")\n",
    "plt.ylabel(\"Accurate Short Passes\")\n",
    "plt.title(\"Top 10 Finalists' Accurate Short Passes\")\n",
    "plt.bar(x_pos, winners_pass_short_ac, color ='b', width = 0.8, align = 'center')\n",
    "plt.savefig(\"Top 10 Finalists' Accurate Short Passes\")\n",
    "plt.show()"
   ]
  },
  {
   "cell_type": "code",
   "execution_count": 39,
   "metadata": {},
   "outputs": [
    {
     "data": {
      "text/plain": [
       "<BarContainer object of 10 artists>"
      ]
     },
     "execution_count": 39,
     "metadata": {},
     "output_type": "execute_result"
    },
    {
     "data": {
      "text/plain": [
       "<BarContainer object of 10 artists>"
      ]
     },
     "execution_count": 39,
     "metadata": {},
     "output_type": "execute_result"
    },
    {
     "data": {
      "text/plain": [
       "<BarContainer object of 10 artists>"
      ]
     },
     "execution_count": 39,
     "metadata": {},
     "output_type": "execute_result"
    },
    {
     "data": {
      "text/plain": [
       "<BarContainer object of 10 artists>"
      ]
     },
     "execution_count": 39,
     "metadata": {},
     "output_type": "execute_result"
    },
    {
     "data": {
      "text/plain": [
       "<BarContainer object of 10 artists>"
      ]
     },
     "execution_count": 39,
     "metadata": {},
     "output_type": "execute_result"
    },
    {
     "data": {
      "image/png": "[encoded data removed]",
      "text/plain": [
       "<Figure size 1080x1080 with 5 Axes>"
      ]
     },
     "metadata": {
      "needs_background": "light"
     },
     "output_type": "display_data"
    }
   ],
   "source": [
    "fig = plt.figure(figsize=(15,15))\n",
    "ax1 = fig.add_subplot(3,2,1)\n",
    "ax2 = fig.add_subplot(3,2,2)\n",
    "ax3 = fig.add_subplot(3,2,3)\n",
    "ax4 = fig.add_subplot(3,2,4)\n",
    "ax5 = fig.add_subplot(3,2,5)\n",
    "#ax6 = fig.add_subplot(3,2,6)\n",
    "\n",
    "plt.subplots_adjust(wspace=0.3, hspace=0.6)\n",
    "\n",
    "#Variables which are used by all subplots\n",
    "x_pos = [1,2,3,4,5,6,7,8,9,10]\n",
    "countries = list(df_finalists[\"country_name\"])\n",
    "\n",
    "#ax1 - goals\n",
    "winners_goals = list(df_finalists[\"goal\"])\n",
    "\n",
    "ax1.bar(x_pos, winners_goals, color ='b', width = 0.8, align = 'center')\n",
    "ax1_xlab = 'Countries'\n",
    "ax1_ylab = 'No of Goals'\n",
    "ax1_title = (\"Top 10 Finalists' Goals\")\n",
    "_ = ax1.set_xlabel(ax1_xlab)\n",
    "_ = ax1.set_ylabel(ax1_ylab)\n",
    "ax1_xticks = ax1.set_xticks(x_pos)\n",
    "ax1_labels = ax1.set_xticklabels(countries, rotation=45)\n",
    "ax1.title.set_text(ax1_title)\n",
    "\n",
    "\n",
    "#ax2 - possession \n",
    "winners_possession = list(df_finalists[\"possession_percentage\"])\n",
    "\n",
    "ax2.bar(x_pos, winners_possession, color ='b', width = 0.8, align = 'center')\n",
    "ax2_xlab = 'Countries'\n",
    "ax2_ylab = 'Possession %'\n",
    "ax2_title = (\"Top 10 Finalists' Possession Percentage\")\n",
    "_ = ax2.set_xlabel(ax2_xlab)\n",
    "_ = ax2.set_ylabel(ax2_ylab)\n",
    "ax2_xticks = ax2.set_xticks(x_pos)\n",
    "ax2_labels = ax2.set_xticklabels(countries, rotation=45)\n",
    "ax2.title.set_text(ax2_title)\n",
    "\n",
    "\n",
    "# #ax3 - stat\n",
    "# winners_stat = list(df_finalists[\"stat-value\"])\n",
    "\n",
    "# ax3.bar(x_pos, winners_stat, color ='b', width = 0.8, align = 'center')\n",
    "# ax3_xlab = 'Countries'\n",
    "# ax3_ylab = 'Stat Value'\n",
    "# ax3_title = (\"Top 10 Finalists' Stat Value\")\n",
    "# _ = ax3.set_xlabel(ax3_xlab)\n",
    "# _ = ax3.set_ylabel(ax3_ylab)\n",
    "# ax3_xticks = ax3.set_xticks(x_pos)\n",
    "# ax3_labels = ax3.set_xticklabels(countries, rotation=45)\n",
    "# ax3.title.set_text(ax3_title)\n",
    "\n",
    "\n",
    "#ax3 - keyPassShort\n",
    "winners_keyPassShort = list(df_finalists[\"keyPassShort\"])\n",
    "\n",
    "ax3.bar(x_pos, winners_keyPassShort, color ='b', width = 0.8, align = 'center')\n",
    "ax3_xlab = 'Countries'\n",
    "ax3_ylab = 'Key Short Passes'\n",
    "ax3_title = (\"Top 10 Finalists' Key Short Passes\")\n",
    "_ = ax3.set_xlabel(ax3_xlab)\n",
    "_ = ax3.set_ylabel(ax3_ylab)\n",
    "ax3_xticks = ax3.set_xticks(x_pos)\n",
    "ax3_labels = ax3.set_xticklabels(countries, rotation=45)\n",
    "ax3.title.set_text(ax3_title)\n",
    "\n",
    "\n",
    "\n",
    "#ax5 - PassLongInaccurate\n",
    "winners_pass_long_inac = list(df_finalists[\"passLongBallInaccurate\"])\n",
    "\n",
    "ax4.bar(x_pos, winners_pass_long_inac, color ='b', width = 0.8, align = 'center')\n",
    "ax4_xlab = 'Countries'\n",
    "ax4_ylab = \"Inaccurate Long Passes\"\n",
    "ax4_title = (\"Top 10 Finalists' Inaccurate Long Passes\")\n",
    "_ = ax4.set_xlabel(ax4_xlab)\n",
    "_ = ax4.set_ylabel(ax4_ylab)\n",
    "ax4_xticks = ax4.set_xticks(x_pos)\n",
    "ax4_labels = ax4.set_xticklabels(countries, rotation=45)\n",
    "ax4.title.set_text(ax4_title)\n",
    "\n",
    "\n",
    "\n",
    "#ax6 - PassShortAccurate\n",
    "winners_pass_short_ac = list(df_finalists[\"shortPassAccurate\"])\n",
    "\n",
    "ax5.bar(x_pos, winners_pass_short_ac, color ='b', width = 0.8, align = 'center')\n",
    "ax5_xlab = 'Countries'\n",
    "ax5_ylab = \"Accurate Short Passes\"\n",
    "ax5_title = (\"Top 10 Finalists' Accurate Short Passes\")\n",
    "_ = ax5.set_xlabel(ax5_xlab)\n",
    "_ = ax5.set_ylabel(ax5_ylab)\n",
    "ax5_xticks = ax5.set_xticks(x_pos)\n",
    "ax5_labels = ax5.set_xticklabels(countries, rotation=45)\n",
    "ax5.title.set_text(ax5_title)\n",
    "\n",
    "plt.savefig(\"Subplots.png\")\n",
    "\n",
    "\n"
   ]
  },
  {
   "cell_type": "markdown",
   "metadata": {},
   "source": [
    "### Radar Chart for ball possessions\n"
   ]
  },
  {
   "cell_type": "code",
   "execution_count": 40,
   "metadata": {},
   "outputs": [
    {
     "data": {
      "text/html": [
       "<div>\n",
       "<style scoped>\n",
       "    .dataframe tbody tr th:only-of-type {\n",
       "        vertical-align: middle;\n",
       "    }\n",
       "\n",
       "    .dataframe tbody tr th {\n",
       "        vertical-align: top;\n",
       "    }\n",
       "\n",
       "    .dataframe thead th {\n",
       "        text-align: right;\n",
       "    }\n",
       "</style>\n",
       "<table border=\"1\" class=\"dataframe\">\n",
       "  <thead>\n",
       "    <tr style=\"text-align: right;\">\n",
       "      <th></th>\n",
       "      <th>country_name</th>\n",
       "      <th>Final_positional_ranking</th>\n",
       "      <th>goal</th>\n",
       "      <th>shotsPerGame</th>\n",
       "      <th>yellow_card</th>\n",
       "      <th>red_card</th>\n",
       "      <th>possession_percentage</th>\n",
       "      <th>passSuccess_percentage</th>\n",
       "      <th>shotOnTargetPG</th>\n",
       "      <th>dribbleWonPG</th>\n",
       "      <th>...</th>\n",
       "      <th>keyPassShort</th>\n",
       "      <th>left_side_percent</th>\n",
       "      <th>middle_side_percent</th>\n",
       "      <th>right_side_percent</th>\n",
       "      <th>own_third_percent</th>\n",
       "      <th>middle_third_percent</th>\n",
       "      <th>opposition_third_percent</th>\n",
       "      <th>shot_left_side_percent</th>\n",
       "      <th>shot_middle_side_percent</th>\n",
       "      <th>shot_right_side_percent</th>\n",
       "    </tr>\n",
       "  </thead>\n",
       "  <tbody>\n",
       "    <tr>\n",
       "      <th>0</th>\n",
       "      <td>Argentina</td>\n",
       "      <td>16</td>\n",
       "      <td>6</td>\n",
       "      <td>13.8</td>\n",
       "      <td>11</td>\n",
       "      <td>0</td>\n",
       "      <td>61.1</td>\n",
       "      <td>85.0</td>\n",
       "      <td>4.5</td>\n",
       "      <td>13.5</td>\n",
       "      <td>...</td>\n",
       "      <td>8.8</td>\n",
       "      <td>38</td>\n",
       "      <td>27</td>\n",
       "      <td>35</td>\n",
       "      <td>19</td>\n",
       "      <td>49</td>\n",
       "      <td>32</td>\n",
       "      <td>27</td>\n",
       "      <td>49</td>\n",
       "      <td>24</td>\n",
       "    </tr>\n",
       "    <tr>\n",
       "      <th>1</th>\n",
       "      <td>Australia</td>\n",
       "      <td>25</td>\n",
       "      <td>2</td>\n",
       "      <td>11.0</td>\n",
       "      <td>7</td>\n",
       "      <td>0</td>\n",
       "      <td>50.9</td>\n",
       "      <td>83.7</td>\n",
       "      <td>2.3</td>\n",
       "      <td>11.0</td>\n",
       "      <td>...</td>\n",
       "      <td>6.3</td>\n",
       "      <td>35</td>\n",
       "      <td>20</td>\n",
       "      <td>45</td>\n",
       "      <td>27</td>\n",
       "      <td>47</td>\n",
       "      <td>25</td>\n",
       "      <td>9</td>\n",
       "      <td>79</td>\n",
       "      <td>12</td>\n",
       "    </tr>\n",
       "    <tr>\n",
       "      <th>2</th>\n",
       "      <td>Belgium</td>\n",
       "      <td>3</td>\n",
       "      <td>16</td>\n",
       "      <td>15.1</td>\n",
       "      <td>11</td>\n",
       "      <td>0</td>\n",
       "      <td>52.1</td>\n",
       "      <td>86.3</td>\n",
       "      <td>5.7</td>\n",
       "      <td>13.3</td>\n",
       "      <td>...</td>\n",
       "      <td>10.6</td>\n",
       "      <td>34</td>\n",
       "      <td>26</td>\n",
       "      <td>40</td>\n",
       "      <td>27</td>\n",
       "      <td>47</td>\n",
       "      <td>26</td>\n",
       "      <td>26</td>\n",
       "      <td>56</td>\n",
       "      <td>18</td>\n",
       "    </tr>\n",
       "    <tr>\n",
       "      <th>3</th>\n",
       "      <td>Brazil</td>\n",
       "      <td>5</td>\n",
       "      <td>8</td>\n",
       "      <td>20.8</td>\n",
       "      <td>7</td>\n",
       "      <td>0</td>\n",
       "      <td>56.8</td>\n",
       "      <td>87.9</td>\n",
       "      <td>8.0</td>\n",
       "      <td>14.8</td>\n",
       "      <td>...</td>\n",
       "      <td>13.0</td>\n",
       "      <td>43</td>\n",
       "      <td>29</td>\n",
       "      <td>29</td>\n",
       "      <td>25</td>\n",
       "      <td>44</td>\n",
       "      <td>31</td>\n",
       "      <td>28</td>\n",
       "      <td>60</td>\n",
       "      <td>13</td>\n",
       "    </tr>\n",
       "    <tr>\n",
       "      <th>4</th>\n",
       "      <td>Colombia</td>\n",
       "      <td>10</td>\n",
       "      <td>6</td>\n",
       "      <td>9.8</td>\n",
       "      <td>9</td>\n",
       "      <td>1</td>\n",
       "      <td>50.2</td>\n",
       "      <td>79.9</td>\n",
       "      <td>3.3</td>\n",
       "      <td>7.8</td>\n",
       "      <td>...</td>\n",
       "      <td>5.0</td>\n",
       "      <td>33</td>\n",
       "      <td>22</td>\n",
       "      <td>45</td>\n",
       "      <td>29</td>\n",
       "      <td>48</td>\n",
       "      <td>23</td>\n",
       "      <td>7</td>\n",
       "      <td>66</td>\n",
       "      <td>27</td>\n",
       "    </tr>\n",
       "  </tbody>\n",
       "</table>\n",
       "<p>5 rows × 42 columns</p>\n",
       "</div>"
      ],
      "text/plain": [
       "  country_name  Final_positional_ranking  goal  shotsPerGame  yellow_card  \\\n",
       "0    Argentina                        16     6          13.8           11   \n",
       "1    Australia                        25     2          11.0            7   \n",
       "2      Belgium                         3    16          15.1           11   \n",
       "3       Brazil                         5     8          20.8            7   \n",
       "4     Colombia                        10     6           9.8            9   \n",
       "\n",
       "   red_card  possession_percentage  passSuccess_percentage  shotOnTargetPG  \\\n",
       "0         0                   61.1                    85.0             4.5   \n",
       "1         0                   50.9                    83.7             2.3   \n",
       "2         0                   52.1                    86.3             5.7   \n",
       "3         0                   56.8                    87.9             8.0   \n",
       "4         1                   50.2                    79.9             3.3   \n",
       "\n",
       "   dribbleWonPG  ...  keyPassShort  left_side_percent  middle_side_percent  \\\n",
       "0          13.5  ...           8.8                 38                   27   \n",
       "1          11.0  ...           6.3                 35                   20   \n",
       "2          13.3  ...          10.6                 34                   26   \n",
       "3          14.8  ...          13.0                 43                   29   \n",
       "4           7.8  ...           5.0                 33                   22   \n",
       "\n",
       "   right_side_percent  own_third_percent  middle_third_percent  \\\n",
       "0                  35                 19                    49   \n",
       "1                  45                 27                    47   \n",
       "2                  40                 27                    47   \n",
       "3                  29                 25                    44   \n",
       "4                  45                 29                    48   \n",
       "\n",
       "   opposition_third_percent  shot_left_side_percent  shot_middle_side_percent  \\\n",
       "0                        32                      27                        49   \n",
       "1                        25                       9                        79   \n",
       "2                        26                      26                        56   \n",
       "3                        31                      28                        60   \n",
       "4                        23                       7                        66   \n",
       "\n",
       "   shot_right_side_percent  \n",
       "0                       24  \n",
       "1                       12  \n",
       "2                       18  \n",
       "3                       13  \n",
       "4                       27  \n",
       "\n",
       "[5 rows x 42 columns]"
      ]
     },
     "execution_count": 40,
     "metadata": {},
     "output_type": "execute_result"
    }
   ],
   "source": [
    "#updating column names \n",
    "all_football_18 = all_football_18.rename(columns= {\"left_side\": \"left_side_percent\",\n",
    "                                \"middle_side\": \"middle_side_percent\",\n",
    "                                \"right_side\":\"right_side_percent\",\n",
    "                                \"own_third\":\"own_third_percent\",\n",
    "                                \"middle_third\":\"middle_third_percent\",\n",
    "                                \"opposition_third\":\"opposition_third_percent\",\n",
    "                                \"shot_left_side\":\"shot_left_side_percent\",\n",
    "                                \"shot_middle_side\":\"shot_middle_side_percent\",\n",
    "                                \"shot_right_side\":\"shot_right_side_percent\"})\n",
    "\n",
    "#removing percentage sign to use the numbers\n",
    "all_football_18 = all_football_18.replace({'%': ''}, regex=True)\n",
    "\n",
    "all_football_18.head()\n",
    "\n"
   ]
  },
  {
   "cell_type": "code",
   "execution_count": 41,
   "metadata": {},
   "outputs": [
    {
     "data": {
      "text/html": [
       "<div>\n",
       "<style scoped>\n",
       "    .dataframe tbody tr th:only-of-type {\n",
       "        vertical-align: middle;\n",
       "    }\n",
       "\n",
       "    .dataframe tbody tr th {\n",
       "        vertical-align: top;\n",
       "    }\n",
       "\n",
       "    .dataframe thead th {\n",
       "        text-align: right;\n",
       "    }\n",
       "</style>\n",
       "<table border=\"1\" class=\"dataframe\">\n",
       "  <thead>\n",
       "    <tr style=\"text-align: right;\">\n",
       "      <th></th>\n",
       "      <th>country_name</th>\n",
       "      <th>Final_positional_ranking</th>\n",
       "      <th>left_side_percent</th>\n",
       "      <th>middle_side_percent</th>\n",
       "      <th>right_side_percent</th>\n",
       "      <th>own_third_percent</th>\n",
       "      <th>middle_third_percent</th>\n",
       "      <th>opposition_third_percent</th>\n",
       "      <th>shot_left_side_percent</th>\n",
       "      <th>shot_middle_side_percent</th>\n",
       "      <th>shot_right_side_percent</th>\n",
       "    </tr>\n",
       "  </thead>\n",
       "  <tbody>\n",
       "    <tr>\n",
       "      <th>0</th>\n",
       "      <td>Argentina</td>\n",
       "      <td>16</td>\n",
       "      <td>38</td>\n",
       "      <td>27</td>\n",
       "      <td>35</td>\n",
       "      <td>19</td>\n",
       "      <td>49</td>\n",
       "      <td>32</td>\n",
       "      <td>27</td>\n",
       "      <td>49</td>\n",
       "      <td>24</td>\n",
       "    </tr>\n",
       "    <tr>\n",
       "      <th>1</th>\n",
       "      <td>Australia</td>\n",
       "      <td>25</td>\n",
       "      <td>35</td>\n",
       "      <td>20</td>\n",
       "      <td>45</td>\n",
       "      <td>27</td>\n",
       "      <td>47</td>\n",
       "      <td>25</td>\n",
       "      <td>9</td>\n",
       "      <td>79</td>\n",
       "      <td>12</td>\n",
       "    </tr>\n",
       "    <tr>\n",
       "      <th>2</th>\n",
       "      <td>Belgium</td>\n",
       "      <td>3</td>\n",
       "      <td>34</td>\n",
       "      <td>26</td>\n",
       "      <td>40</td>\n",
       "      <td>27</td>\n",
       "      <td>47</td>\n",
       "      <td>26</td>\n",
       "      <td>26</td>\n",
       "      <td>56</td>\n",
       "      <td>18</td>\n",
       "    </tr>\n",
       "    <tr>\n",
       "      <th>3</th>\n",
       "      <td>Brazil</td>\n",
       "      <td>5</td>\n",
       "      <td>43</td>\n",
       "      <td>29</td>\n",
       "      <td>29</td>\n",
       "      <td>25</td>\n",
       "      <td>44</td>\n",
       "      <td>31</td>\n",
       "      <td>28</td>\n",
       "      <td>60</td>\n",
       "      <td>13</td>\n",
       "    </tr>\n",
       "    <tr>\n",
       "      <th>4</th>\n",
       "      <td>Colombia</td>\n",
       "      <td>10</td>\n",
       "      <td>33</td>\n",
       "      <td>22</td>\n",
       "      <td>45</td>\n",
       "      <td>29</td>\n",
       "      <td>48</td>\n",
       "      <td>23</td>\n",
       "      <td>7</td>\n",
       "      <td>66</td>\n",
       "      <td>27</td>\n",
       "    </tr>\n",
       "  </tbody>\n",
       "</table>\n",
       "</div>"
      ],
      "text/plain": [
       "  country_name  Final_positional_ranking left_side_percent  \\\n",
       "0    Argentina                        16                38   \n",
       "1    Australia                        25                35   \n",
       "2      Belgium                         3                34   \n",
       "3       Brazil                         5                43   \n",
       "4     Colombia                        10                33   \n",
       "\n",
       "  middle_side_percent right_side_percent own_third_percent  \\\n",
       "0                  27                 35                19   \n",
       "1                  20                 45                27   \n",
       "2                  26                 40                27   \n",
       "3                  29                 29                25   \n",
       "4                  22                 45                29   \n",
       "\n",
       "  middle_third_percent opposition_third_percent shot_left_side_percent  \\\n",
       "0                   49                       32                     27   \n",
       "1                   47                       25                      9   \n",
       "2                   47                       26                     26   \n",
       "3                   44                       31                     28   \n",
       "4                   48                       23                      7   \n",
       "\n",
       "  shot_middle_side_percent shot_right_side_percent  \n",
       "0                       49                      24  \n",
       "1                       79                      12  \n",
       "2                       56                      18  \n",
       "3                       60                      13  \n",
       "4                       66                      27  "
      ]
     },
     "execution_count": 41,
     "metadata": {},
     "output_type": "execute_result"
    },
    {
     "name": "stdout",
     "output_type": "stream",
     "text": [
      "<class 'pandas.core.frame.DataFrame'>\n",
      "Int64Index: 32 entries, 0 to 31\n",
      "Data columns (total 11 columns):\n",
      " #   Column                    Non-Null Count  Dtype \n",
      "---  ------                    --------------  ----- \n",
      " 0   country_name              32 non-null     object\n",
      " 1   Final_positional_ranking  32 non-null     int64 \n",
      " 2   left_side_percent         32 non-null     int64 \n",
      " 3   middle_side_percent       32 non-null     int64 \n",
      " 4   right_side_percent        32 non-null     int64 \n",
      " 5   own_third_percent         32 non-null     int64 \n",
      " 6   middle_third_percent      32 non-null     int64 \n",
      " 7   opposition_third_percent  32 non-null     int64 \n",
      " 8   shot_left_side_percent    32 non-null     int64 \n",
      " 9   shot_middle_side_percent  32 non-null     int64 \n",
      " 10  shot_right_side_percent   32 non-null     int64 \n",
      "dtypes: int64(10), object(1)\n",
      "memory usage: 3.0+ KB\n"
     ]
    },
    {
     "name": "stderr",
     "output_type": "stream",
     "text": [
      "/opt/anaconda/envs/Python3/lib/python3.8/site-packages/pandas/core/frame.py:3191: SettingWithCopyWarning:\n",
      "\n",
      "\n",
      "A value is trying to be set on a copy of a slice from a DataFrame.\n",
      "Try using .loc[row_indexer,col_indexer] = value instead\n",
      "\n",
      "See the caveats in the documentation: https://pandas.pydata.org/pandas-docs/stable/user_guide/indexing.html#returning-a-view-versus-a-copy\n",
      "\n"
     ]
    }
   ],
   "source": [
    "import statsmodels.api as sm\n",
    "import plotly.graph_objects as go\n",
    "\n",
    "spider_chart = all_football_18[[\"country_name\", \n",
    " \"Final_positional_ranking\",\n",
    " 'left_side_percent',\n",
    " 'middle_side_percent',\n",
    " 'right_side_percent',\n",
    " 'own_third_percent',\n",
    " 'middle_third_percent',\n",
    " 'opposition_third_percent',\n",
    " 'shot_left_side_percent',\n",
    " 'shot_middle_side_percent',\n",
    " 'shot_right_side_percent']]\n",
    "\n",
    "spider_chart.head()\n",
    "spider_chart[['left_side_percent',\n",
    " 'middle_side_percent',\n",
    " 'right_side_percent',\n",
    " 'own_third_percent',\n",
    " 'middle_third_percent',\n",
    " 'opposition_third_percent',\n",
    " 'shot_left_side_percent',\n",
    " 'shot_middle_side_percent',\n",
    " 'shot_right_side_percent']] = spider_chart[['left_side_percent',\n",
    " 'middle_side_percent',\n",
    " 'right_side_percent',\n",
    " 'own_third_percent',\n",
    " 'middle_third_percent',\n",
    " 'opposition_third_percent',\n",
    " 'shot_left_side_percent',\n",
    " 'shot_middle_side_percent',\n",
    " 'shot_right_side_percent']].apply(pd.to_numeric)\n",
    "spider_chart.info()\n"
   ]
  },
  {
   "cell_type": "code",
   "execution_count": 42,
   "metadata": {},
   "outputs": [
    {
     "name": "stderr",
     "output_type": "stream",
     "text": [
      "<ipython-input-42-908a6d6efd6c>:5: SettingWithCopyWarning:\n",
      "\n",
      "\n",
      "A value is trying to be set on a copy of a slice from a DataFrame.\n",
      "Try using .loc[row_indexer,col_indexer] = value instead\n",
      "\n",
      "See the caveats in the documentation: https://pandas.pydata.org/pandas-docs/stable/user_guide/indexing.html#returning-a-view-versus-a-copy\n",
      "\n",
      "<ipython-input-42-908a6d6efd6c>:6: SettingWithCopyWarning:\n",
      "\n",
      "\n",
      "A value is trying to be set on a copy of a slice from a DataFrame.\n",
      "Try using .loc[row_indexer,col_indexer] = value instead\n",
      "\n",
      "See the caveats in the documentation: https://pandas.pydata.org/pandas-docs/stable/user_guide/indexing.html#returning-a-view-versus-a-copy\n",
      "\n",
      "<ipython-input-42-908a6d6efd6c>:7: SettingWithCopyWarning:\n",
      "\n",
      "\n",
      "A value is trying to be set on a copy of a slice from a DataFrame.\n",
      "Try using .loc[row_indexer,col_indexer] = value instead\n",
      "\n",
      "See the caveats in the documentation: https://pandas.pydata.org/pandas-docs/stable/user_guide/indexing.html#returning-a-view-versus-a-copy\n",
      "\n",
      "<ipython-input-42-908a6d6efd6c>:8: SettingWithCopyWarning:\n",
      "\n",
      "\n",
      "A value is trying to be set on a copy of a slice from a DataFrame.\n",
      "Try using .loc[row_indexer,col_indexer] = value instead\n",
      "\n",
      "See the caveats in the documentation: https://pandas.pydata.org/pandas-docs/stable/user_guide/indexing.html#returning-a-view-versus-a-copy\n",
      "\n",
      "<ipython-input-42-908a6d6efd6c>:9: SettingWithCopyWarning:\n",
      "\n",
      "\n",
      "A value is trying to be set on a copy of a slice from a DataFrame.\n",
      "Try using .loc[row_indexer,col_indexer] = value instead\n",
      "\n",
      "See the caveats in the documentation: https://pandas.pydata.org/pandas-docs/stable/user_guide/indexing.html#returning-a-view-versus-a-copy\n",
      "\n",
      "<ipython-input-42-908a6d6efd6c>:10: SettingWithCopyWarning:\n",
      "\n",
      "\n",
      "A value is trying to be set on a copy of a slice from a DataFrame.\n",
      "Try using .loc[row_indexer,col_indexer] = value instead\n",
      "\n",
      "See the caveats in the documentation: https://pandas.pydata.org/pandas-docs/stable/user_guide/indexing.html#returning-a-view-versus-a-copy\n",
      "\n",
      "<ipython-input-42-908a6d6efd6c>:11: SettingWithCopyWarning:\n",
      "\n",
      "\n",
      "A value is trying to be set on a copy of a slice from a DataFrame.\n",
      "Try using .loc[row_indexer,col_indexer] = value instead\n",
      "\n",
      "See the caveats in the documentation: https://pandas.pydata.org/pandas-docs/stable/user_guide/indexing.html#returning-a-view-versus-a-copy\n",
      "\n",
      "<ipython-input-42-908a6d6efd6c>:12: SettingWithCopyWarning:\n",
      "\n",
      "\n",
      "A value is trying to be set on a copy of a slice from a DataFrame.\n",
      "Try using .loc[row_indexer,col_indexer] = value instead\n",
      "\n",
      "See the caveats in the documentation: https://pandas.pydata.org/pandas-docs/stable/user_guide/indexing.html#returning-a-view-versus-a-copy\n",
      "\n",
      "<ipython-input-42-908a6d6efd6c>:13: SettingWithCopyWarning:\n",
      "\n",
      "\n",
      "A value is trying to be set on a copy of a slice from a DataFrame.\n",
      "Try using .loc[row_indexer,col_indexer] = value instead\n",
      "\n",
      "See the caveats in the documentation: https://pandas.pydata.org/pandas-docs/stable/user_guide/indexing.html#returning-a-view-versus-a-copy\n",
      "\n"
     ]
    },
    {
     "data": {
      "text/html": [
       "<div>\n",
       "<style scoped>\n",
       "    .dataframe tbody tr th:only-of-type {\n",
       "        vertical-align: middle;\n",
       "    }\n",
       "\n",
       "    .dataframe tbody tr th {\n",
       "        vertical-align: top;\n",
       "    }\n",
       "\n",
       "    .dataframe thead th {\n",
       "        text-align: right;\n",
       "    }\n",
       "</style>\n",
       "<table border=\"1\" class=\"dataframe\">\n",
       "  <thead>\n",
       "    <tr style=\"text-align: right;\">\n",
       "      <th></th>\n",
       "      <th>country_name</th>\n",
       "      <th>Final_positional_ranking</th>\n",
       "      <th>left_side_percent</th>\n",
       "      <th>middle_side_percent</th>\n",
       "      <th>right_side_percent</th>\n",
       "      <th>own_third_percent</th>\n",
       "      <th>middle_third_percent</th>\n",
       "      <th>opposition_third_percent</th>\n",
       "      <th>shot_left_side_percent</th>\n",
       "      <th>shot_middle_side_percent</th>\n",
       "      <th>shot_right_side_percent</th>\n",
       "      <th>group_left_side</th>\n",
       "      <th>group_middle_side</th>\n",
       "      <th>group_right_side</th>\n",
       "      <th>group_own_third</th>\n",
       "      <th>group_middle_third</th>\n",
       "      <th>group_opposition_third</th>\n",
       "      <th>group_shot_left_side</th>\n",
       "      <th>group_shot_middle_side</th>\n",
       "      <th>group_shot_right_side</th>\n",
       "    </tr>\n",
       "  </thead>\n",
       "  <tbody>\n",
       "    <tr>\n",
       "      <th>0</th>\n",
       "      <td>Argentina</td>\n",
       "      <td>16</td>\n",
       "      <td>38</td>\n",
       "      <td>27</td>\n",
       "      <td>35</td>\n",
       "      <td>19</td>\n",
       "      <td>49</td>\n",
       "      <td>32</td>\n",
       "      <td>27</td>\n",
       "      <td>49</td>\n",
       "      <td>24</td>\n",
       "      <td>(20, 40]</td>\n",
       "      <td>(20, 40]</td>\n",
       "      <td>(20, 40]</td>\n",
       "      <td>(0, 20]</td>\n",
       "      <td>(40, 60]</td>\n",
       "      <td>(20, 40]</td>\n",
       "      <td>(20, 40]</td>\n",
       "      <td>(40, 60]</td>\n",
       "      <td>(20, 40]</td>\n",
       "    </tr>\n",
       "    <tr>\n",
       "      <th>1</th>\n",
       "      <td>Australia</td>\n",
       "      <td>25</td>\n",
       "      <td>35</td>\n",
       "      <td>20</td>\n",
       "      <td>45</td>\n",
       "      <td>27</td>\n",
       "      <td>47</td>\n",
       "      <td>25</td>\n",
       "      <td>9</td>\n",
       "      <td>79</td>\n",
       "      <td>12</td>\n",
       "      <td>(20, 40]</td>\n",
       "      <td>(0, 20]</td>\n",
       "      <td>(40, 60]</td>\n",
       "      <td>(20, 40]</td>\n",
       "      <td>(40, 60]</td>\n",
       "      <td>(20, 40]</td>\n",
       "      <td>(0, 20]</td>\n",
       "      <td>(60, 80]</td>\n",
       "      <td>(0, 20]</td>\n",
       "    </tr>\n",
       "    <tr>\n",
       "      <th>2</th>\n",
       "      <td>Belgium</td>\n",
       "      <td>3</td>\n",
       "      <td>34</td>\n",
       "      <td>26</td>\n",
       "      <td>40</td>\n",
       "      <td>27</td>\n",
       "      <td>47</td>\n",
       "      <td>26</td>\n",
       "      <td>26</td>\n",
       "      <td>56</td>\n",
       "      <td>18</td>\n",
       "      <td>(20, 40]</td>\n",
       "      <td>(20, 40]</td>\n",
       "      <td>(20, 40]</td>\n",
       "      <td>(20, 40]</td>\n",
       "      <td>(40, 60]</td>\n",
       "      <td>(20, 40]</td>\n",
       "      <td>(20, 40]</td>\n",
       "      <td>(40, 60]</td>\n",
       "      <td>(0, 20]</td>\n",
       "    </tr>\n",
       "    <tr>\n",
       "      <th>3</th>\n",
       "      <td>Brazil</td>\n",
       "      <td>5</td>\n",
       "      <td>43</td>\n",
       "      <td>29</td>\n",
       "      <td>29</td>\n",
       "      <td>25</td>\n",
       "      <td>44</td>\n",
       "      <td>31</td>\n",
       "      <td>28</td>\n",
       "      <td>60</td>\n",
       "      <td>13</td>\n",
       "      <td>(40, 60]</td>\n",
       "      <td>(20, 40]</td>\n",
       "      <td>(20, 40]</td>\n",
       "      <td>(20, 40]</td>\n",
       "      <td>(40, 60]</td>\n",
       "      <td>(20, 40]</td>\n",
       "      <td>(20, 40]</td>\n",
       "      <td>(40, 60]</td>\n",
       "      <td>(0, 20]</td>\n",
       "    </tr>\n",
       "    <tr>\n",
       "      <th>4</th>\n",
       "      <td>Colombia</td>\n",
       "      <td>10</td>\n",
       "      <td>33</td>\n",
       "      <td>22</td>\n",
       "      <td>45</td>\n",
       "      <td>29</td>\n",
       "      <td>48</td>\n",
       "      <td>23</td>\n",
       "      <td>7</td>\n",
       "      <td>66</td>\n",
       "      <td>27</td>\n",
       "      <td>(20, 40]</td>\n",
       "      <td>(20, 40]</td>\n",
       "      <td>(40, 60]</td>\n",
       "      <td>(20, 40]</td>\n",
       "      <td>(40, 60]</td>\n",
       "      <td>(20, 40]</td>\n",
       "      <td>(0, 20]</td>\n",
       "      <td>(60, 80]</td>\n",
       "      <td>(20, 40]</td>\n",
       "    </tr>\n",
       "  </tbody>\n",
       "</table>\n",
       "</div>"
      ],
      "text/plain": [
       "  country_name  Final_positional_ranking  left_side_percent  \\\n",
       "0    Argentina                        16                 38   \n",
       "1    Australia                        25                 35   \n",
       "2      Belgium                         3                 34   \n",
       "3       Brazil                         5                 43   \n",
       "4     Colombia                        10                 33   \n",
       "\n",
       "   middle_side_percent  right_side_percent  own_third_percent  \\\n",
       "0                   27                  35                 19   \n",
       "1                   20                  45                 27   \n",
       "2                   26                  40                 27   \n",
       "3                   29                  29                 25   \n",
       "4                   22                  45                 29   \n",
       "\n",
       "   middle_third_percent  opposition_third_percent  shot_left_side_percent  \\\n",
       "0                    49                        32                      27   \n",
       "1                    47                        25                       9   \n",
       "2                    47                        26                      26   \n",
       "3                    44                        31                      28   \n",
       "4                    48                        23                       7   \n",
       "\n",
       "   shot_middle_side_percent  shot_right_side_percent group_left_side  \\\n",
       "0                        49                       24        (20, 40]   \n",
       "1                        79                       12        (20, 40]   \n",
       "2                        56                       18        (20, 40]   \n",
       "3                        60                       13        (40, 60]   \n",
       "4                        66                       27        (20, 40]   \n",
       "\n",
       "  group_middle_side group_right_side group_own_third group_middle_third  \\\n",
       "0          (20, 40]         (20, 40]         (0, 20]           (40, 60]   \n",
       "1           (0, 20]         (40, 60]        (20, 40]           (40, 60]   \n",
       "2          (20, 40]         (20, 40]        (20, 40]           (40, 60]   \n",
       "3          (20, 40]         (20, 40]        (20, 40]           (40, 60]   \n",
       "4          (20, 40]         (40, 60]        (20, 40]           (40, 60]   \n",
       "\n",
       "  group_opposition_third group_shot_left_side group_shot_middle_side  \\\n",
       "0               (20, 40]             (20, 40]               (40, 60]   \n",
       "1               (20, 40]              (0, 20]               (60, 80]   \n",
       "2               (20, 40]             (20, 40]               (40, 60]   \n",
       "3               (20, 40]             (20, 40]               (40, 60]   \n",
       "4               (20, 40]              (0, 20]               (60, 80]   \n",
       "\n",
       "  group_shot_right_side  \n",
       "0              (20, 40]  \n",
       "1               (0, 20]  \n",
       "2               (0, 20]  \n",
       "3               (0, 20]  \n",
       "4              (20, 40]  "
      ]
     },
     "execution_count": 42,
     "metadata": {},
     "output_type": "execute_result"
    }
   ],
   "source": [
    "#Make categories with 5 distinct bins\n",
    "\n",
    "bins = [0, 20, 40, 60, 80, 100]\n",
    "\n",
    "spider_chart[\"group_left_side\"] = pd.cut(spider_chart.left_side_percent, bins)\n",
    "spider_chart[\"group_middle_side\"] = pd.cut(spider_chart.middle_side_percent, bins)\n",
    "spider_chart[\"group_right_side\"] = pd.cut(spider_chart.right_side_percent, bins)\n",
    "spider_chart[\"group_own_third\"] = pd.cut(spider_chart.own_third_percent, bins)\n",
    "spider_chart[\"group_middle_third\"] = pd.cut(spider_chart.middle_third_percent, bins)\n",
    "spider_chart[\"group_opposition_third\"] = pd.cut(spider_chart.opposition_third_percent, bins)\n",
    "spider_chart[\"group_shot_left_side\"] = pd.cut(spider_chart.shot_left_side_percent, bins)\n",
    "spider_chart[\"group_shot_middle_side\"] = pd.cut(spider_chart.shot_middle_side_percent, bins)\n",
    "spider_chart[\"group_shot_right_side\"] = pd.cut(spider_chart.shot_right_side_percent, bins)\n",
    "spider_chart.head()\n",
    "\n"
   ]
  },
  {
   "cell_type": "code",
   "execution_count": 43,
   "metadata": {},
   "outputs": [
    {
     "data": {
      "text/html": [
       "<div>\n",
       "<style scoped>\n",
       "    .dataframe tbody tr th:only-of-type {\n",
       "        vertical-align: middle;\n",
       "    }\n",
       "\n",
       "    .dataframe tbody tr th {\n",
       "        vertical-align: top;\n",
       "    }\n",
       "\n",
       "    .dataframe thead th {\n",
       "        text-align: right;\n",
       "    }\n",
       "</style>\n",
       "<table border=\"1\" class=\"dataframe\">\n",
       "  <thead>\n",
       "    <tr style=\"text-align: right;\">\n",
       "      <th></th>\n",
       "      <th>country_name</th>\n",
       "      <th>Final_positional_ranking</th>\n",
       "      <th>left_side_percent</th>\n",
       "      <th>middle_side_percent</th>\n",
       "      <th>right_side_percent</th>\n",
       "      <th>own_third_percent</th>\n",
       "      <th>middle_third_percent</th>\n",
       "      <th>opposition_third_percent</th>\n",
       "      <th>shot_left_side_percent</th>\n",
       "      <th>shot_middle_side_percent</th>\n",
       "      <th>shot_right_side_percent</th>\n",
       "      <th>group_left_side</th>\n",
       "      <th>group_middle_side</th>\n",
       "      <th>group_right_side</th>\n",
       "      <th>group_own_third</th>\n",
       "      <th>group_middle_third</th>\n",
       "      <th>group_opposition_third</th>\n",
       "      <th>group_shot_left_side</th>\n",
       "      <th>group_shot_middle_side</th>\n",
       "      <th>group_shot_right_side</th>\n",
       "    </tr>\n",
       "  </thead>\n",
       "  <tbody>\n",
       "    <tr>\n",
       "      <th>10</th>\n",
       "      <td>France</td>\n",
       "      <td>1</td>\n",
       "      <td>36</td>\n",
       "      <td>21</td>\n",
       "      <td>42</td>\n",
       "      <td>27</td>\n",
       "      <td>47</td>\n",
       "      <td>26</td>\n",
       "      <td>17</td>\n",
       "      <td>60</td>\n",
       "      <td>23</td>\n",
       "      <td>(20, 40]</td>\n",
       "      <td>(20, 40]</td>\n",
       "      <td>(40, 60]</td>\n",
       "      <td>(20, 40]</td>\n",
       "      <td>(40, 60]</td>\n",
       "      <td>(20, 40]</td>\n",
       "      <td>(0, 20]</td>\n",
       "      <td>(40, 60]</td>\n",
       "      <td>(20, 40]</td>\n",
       "    </tr>\n",
       "  </tbody>\n",
       "</table>\n",
       "</div>"
      ],
      "text/plain": [
       "   country_name  Final_positional_ranking  left_side_percent  \\\n",
       "10       France                         1                 36   \n",
       "\n",
       "    middle_side_percent  right_side_percent  own_third_percent  \\\n",
       "10                   21                  42                 27   \n",
       "\n",
       "    middle_third_percent  opposition_third_percent  shot_left_side_percent  \\\n",
       "10                    47                        26                      17   \n",
       "\n",
       "    shot_middle_side_percent  shot_right_side_percent group_left_side  \\\n",
       "10                        60                       23        (20, 40]   \n",
       "\n",
       "   group_middle_side group_right_side group_own_third group_middle_third  \\\n",
       "10          (20, 40]         (40, 60]        (20, 40]           (40, 60]   \n",
       "\n",
       "   group_opposition_third group_shot_left_side group_shot_middle_side  \\\n",
       "10               (20, 40]              (0, 20]               (40, 60]   \n",
       "\n",
       "   group_shot_right_side  \n",
       "10              (20, 40]  "
      ]
     },
     "execution_count": 43,
     "metadata": {},
     "output_type": "execute_result"
    },
    {
     "data": {
      "text/html": [
       "<div>\n",
       "<style scoped>\n",
       "    .dataframe tbody tr th:only-of-type {\n",
       "        vertical-align: middle;\n",
       "    }\n",
       "\n",
       "    .dataframe tbody tr th {\n",
       "        vertical-align: top;\n",
       "    }\n",
       "\n",
       "    .dataframe thead th {\n",
       "        text-align: right;\n",
       "    }\n",
       "</style>\n",
       "<table border=\"1\" class=\"dataframe\">\n",
       "  <thead>\n",
       "    <tr style=\"text-align: right;\">\n",
       "      <th></th>\n",
       "      <th>country_name</th>\n",
       "      <th>Final_positional_ranking</th>\n",
       "      <th>left_side_percent</th>\n",
       "      <th>middle_side_percent</th>\n",
       "      <th>right_side_percent</th>\n",
       "      <th>own_third_percent</th>\n",
       "      <th>middle_third_percent</th>\n",
       "      <th>opposition_third_percent</th>\n",
       "      <th>shot_left_side_percent</th>\n",
       "      <th>shot_middle_side_percent</th>\n",
       "      <th>shot_right_side_percent</th>\n",
       "      <th>group_left_side</th>\n",
       "      <th>group_middle_side</th>\n",
       "      <th>group_right_side</th>\n",
       "      <th>group_own_third</th>\n",
       "      <th>group_middle_third</th>\n",
       "      <th>group_opposition_third</th>\n",
       "      <th>group_shot_left_side</th>\n",
       "      <th>group_shot_middle_side</th>\n",
       "      <th>group_shot_right_side</th>\n",
       "    </tr>\n",
       "  </thead>\n",
       "  <tbody>\n",
       "    <tr>\n",
       "      <th>18</th>\n",
       "      <td>Panama</td>\n",
       "      <td>32</td>\n",
       "      <td>44</td>\n",
       "      <td>23</td>\n",
       "      <td>33</td>\n",
       "      <td>26</td>\n",
       "      <td>54</td>\n",
       "      <td>20</td>\n",
       "      <td>24</td>\n",
       "      <td>60</td>\n",
       "      <td>16</td>\n",
       "      <td>(40, 60]</td>\n",
       "      <td>(20, 40]</td>\n",
       "      <td>(20, 40]</td>\n",
       "      <td>(20, 40]</td>\n",
       "      <td>(40, 60]</td>\n",
       "      <td>(0, 20]</td>\n",
       "      <td>(20, 40]</td>\n",
       "      <td>(40, 60]</td>\n",
       "      <td>(0, 20]</td>\n",
       "    </tr>\n",
       "  </tbody>\n",
       "</table>\n",
       "</div>"
      ],
      "text/plain": [
       "   country_name  Final_positional_ranking  left_side_percent  \\\n",
       "18       Panama                        32                 44   \n",
       "\n",
       "    middle_side_percent  right_side_percent  own_third_percent  \\\n",
       "18                   23                  33                 26   \n",
       "\n",
       "    middle_third_percent  opposition_third_percent  shot_left_side_percent  \\\n",
       "18                    54                        20                      24   \n",
       "\n",
       "    shot_middle_side_percent  shot_right_side_percent group_left_side  \\\n",
       "18                        60                       16        (40, 60]   \n",
       "\n",
       "   group_middle_side group_right_side group_own_third group_middle_third  \\\n",
       "18          (20, 40]         (20, 40]        (20, 40]           (40, 60]   \n",
       "\n",
       "   group_opposition_third group_shot_left_side group_shot_middle_side  \\\n",
       "18                (0, 20]             (20, 40]               (40, 60]   \n",
       "\n",
       "   group_shot_right_side  \n",
       "18               (0, 20]  "
      ]
     },
     "execution_count": 43,
     "metadata": {},
     "output_type": "execute_result"
    },
    {
     "data": {
      "text/plain": [
       "group_left_side           (20, 40]\n",
       "group_middle_side         (20, 40]\n",
       "group_right_side          (40, 60]\n",
       "group_own_third           (20, 40]\n",
       "group_middle_third        (40, 60]\n",
       "group_opposition_third    (20, 40]\n",
       "group_shot_left_side       (0, 20]\n",
       "group_shot_middle_side    (40, 60]\n",
       "group_shot_right_side     (20, 40]\n",
       "Name: 10, dtype: object"
      ]
     },
     "execution_count": 43,
     "metadata": {},
     "output_type": "execute_result"
    }
   ],
   "source": [
    "#find France's and Panama's index\n",
    "spider_chart.loc[spider_chart.country_name ==\"France\"] \n",
    "spider_chart.loc[spider_chart.country_name ==\"Panama\"]\n",
    "spider_chart.loc[10][\"group_left_side\":\"group_shot_right_side\"]"
   ]
  },
  {
   "cell_type": "code",
   "execution_count": 44,
   "metadata": {},
   "outputs": [
    {
     "data": {
      "application/vnd.plotly.v1+json": {
       "config": {
        "plotlyServerURL": "https://plot.ly"
       },
       "data": [
        {
         "fill": "toself",
         "name": "France",
         "r": [
          36,
          21,
          42,
          27,
          47,
          26,
          17,
          60,
          23
         ],
         "textfont": {
          "size": 1
         },
         "theta": [
          "left_side_percent",
          "middle_side_percent",
          "right_side_percent",
          "own_third_percent",
          "middle_third_percent",
          "opposition_third_percent",
          "shot_left_side_percent",
          "shot_middle_side_percent",
          "shot_right_side_percent"
         ],
         "type": "scatterpolar"
        }
       ],
       "layout": {
        "template": {
         "data": {
          "bar": [
           {
            "error_x": {
             "color": "#2a3f5f"
            },
            "error_y": {
             "color": "#2a3f5f"
            },
            "marker": {
             "line": {
              "color": "#E5ECF6",
              "width": 0.5
             }
            },
            "type": "bar"
           }
          ],
          "barpolar": [
           {
            "marker": {
             "line": {
              "color": "#E5ECF6",
              "width": 0.5
             }
            },
            "type": "barpolar"
           }
          ],
          "carpet": [
           {
            "aaxis": {
             "endlinecolor": "#2a3f5f",
             "gridcolor": "white",
             "linecolor": "white",
             "minorgridcolor": "white",
             "startlinecolor": "#2a3f5f"
            },
            "baxis": {
             "endlinecolor": "#2a3f5f",
             "gridcolor": "white",
             "linecolor": "white",
             "minorgridcolor": "white",
             "startlinecolor": "#2a3f5f"
            },
            "type": "carpet"
           }
          ],
          "choropleth": [
           {
            "colorbar": {
             "outlinewidth": 0,
             "ticks": ""
            },
            "type": "choropleth"
           }
          ],
          "contour": [
           {
            "colorbar": {
             "outlinewidth": 0,
             "ticks": ""
            },
            "colorscale": [
             [
              0,
              "#0d0887"
             ],
             [
              0.1111111111111111,
              "#46039f"
             ],
             [
              0.2222222222222222,
              "#7201a8"
             ],
             [
              0.3333333333333333,
              "#9c179e"
             ],
             [
              0.4444444444444444,
              "#bd3786"
             ],
             [
              0.5555555555555556,
              "#d8576b"
             ],
             [
              0.6666666666666666,
              "#ed7953"
             ],
             [
              0.7777777777777778,
              "#fb9f3a"
             ],
             [
              0.8888888888888888,
              "#fdca26"
             ],
             [
              1,
              "#f0f921"
             ]
            ],
            "type": "contour"
           }
          ],
          "contourcarpet": [
           {
            "colorbar": {
             "outlinewidth": 0,
             "ticks": ""
            },
            "type": "contourcarpet"
           }
          ],
          "heatmap": [
           {
            "colorbar": {
             "outlinewidth": 0,
             "ticks": ""
            },
            "colorscale": [
             [
              0,
              "#0d0887"
             ],
             [
              0.1111111111111111,
              "#46039f"
             ],
             [
              0.2222222222222222,
              "#7201a8"
             ],
             [
              0.3333333333333333,
              "#9c179e"
             ],
             [
              0.4444444444444444,
              "#bd3786"
             ],
             [
              0.5555555555555556,
              "#d8576b"
             ],
             [
              0.6666666666666666,
              "#ed7953"
             ],
             [
              0.7777777777777778,
              "#fb9f3a"
             ],
             [
              0.8888888888888888,
              "#fdca26"
             ],
             [
              1,
              "#f0f921"
             ]
            ],
            "type": "heatmap"
           }
          ],
          "heatmapgl": [
           {
            "colorbar": {
             "outlinewidth": 0,
             "ticks": ""
            },
            "colorscale": [
             [
              0,
              "#0d0887"
             ],
             [
              0.1111111111111111,
              "#46039f"
             ],
             [
              0.2222222222222222,
              "#7201a8"
             ],
             [
              0.3333333333333333,
              "#9c179e"
             ],
             [
              0.4444444444444444,
              "#bd3786"
             ],
             [
              0.5555555555555556,
              "#d8576b"
             ],
             [
              0.6666666666666666,
              "#ed7953"
             ],
             [
              0.7777777777777778,
              "#fb9f3a"
             ],
             [
              0.8888888888888888,
              "#fdca26"
             ],
             [
              1,
              "#f0f921"
             ]
            ],
            "type": "heatmapgl"
           }
          ],
          "histogram": [
           {
            "marker": {
             "colorbar": {
              "outlinewidth": 0,
              "ticks": ""
             }
            },
            "type": "histogram"
           }
          ],
          "histogram2d": [
           {
            "colorbar": {
             "outlinewidth": 0,
             "ticks": ""
            },
            "colorscale": [
             [
              0,
              "#0d0887"
             ],
             [
              0.1111111111111111,
              "#46039f"
             ],
             [
              0.2222222222222222,
              "#7201a8"
             ],
             [
              0.3333333333333333,
              "#9c179e"
             ],
             [
              0.4444444444444444,
              "#bd3786"
             ],
             [
              0.5555555555555556,
              "#d8576b"
             ],
             [
              0.6666666666666666,
              "#ed7953"
             ],
             [
              0.7777777777777778,
              "#fb9f3a"
             ],
             [
              0.8888888888888888,
              "#fdca26"
             ],
             [
              1,
              "#f0f921"
             ]
            ],
            "type": "histogram2d"
           }
          ],
          "histogram2dcontour": [
           {
            "colorbar": {
             "outlinewidth": 0,
             "ticks": ""
            },
            "colorscale": [
             [
              0,
              "#0d0887"
             ],
             [
              0.1111111111111111,
              "#46039f"
             ],
             [
              0.2222222222222222,
              "#7201a8"
             ],
             [
              0.3333333333333333,
              "#9c179e"
             ],
             [
              0.4444444444444444,
              "#bd3786"
             ],
             [
              0.5555555555555556,
              "#d8576b"
             ],
             [
              0.6666666666666666,
              "#ed7953"
             ],
             [
              0.7777777777777778,
              "#fb9f3a"
             ],
             [
              0.8888888888888888,
              "#fdca26"
             ],
             [
              1,
              "#f0f921"
             ]
            ],
            "type": "histogram2dcontour"
           }
          ],
          "mesh3d": [
           {
            "colorbar": {
             "outlinewidth": 0,
             "ticks": ""
            },
            "type": "mesh3d"
           }
          ],
          "parcoords": [
           {
            "line": {
             "colorbar": {
              "outlinewidth": 0,
              "ticks": ""
             }
            },
            "type": "parcoords"
           }
          ],
          "pie": [
           {
            "automargin": true,
            "type": "pie"
           }
          ],
          "scatter": [
           {
            "marker": {
             "colorbar": {
              "outlinewidth": 0,
              "ticks": ""
             }
            },
            "type": "scatter"
           }
          ],
          "scatter3d": [
           {
            "line": {
             "colorbar": {
              "outlinewidth": 0,
              "ticks": ""
             }
            },
            "marker": {
             "colorbar": {
              "outlinewidth": 0,
              "ticks": ""
             }
            },
            "type": "scatter3d"
           }
          ],
          "scattercarpet": [
           {
            "marker": {
             "colorbar": {
              "outlinewidth": 0,
              "ticks": ""
             }
            },
            "type": "scattercarpet"
           }
          ],
          "scattergeo": [
           {
            "marker": {
             "colorbar": {
              "outlinewidth": 0,
              "ticks": ""
             }
            },
            "type": "scattergeo"
           }
          ],
          "scattergl": [
           {
            "marker": {
             "colorbar": {
              "outlinewidth": 0,
              "ticks": ""
             }
            },
            "type": "scattergl"
           }
          ],
          "scattermapbox": [
           {
            "marker": {
             "colorbar": {
              "outlinewidth": 0,
              "ticks": ""
             }
            },
            "type": "scattermapbox"
           }
          ],
          "scatterpolar": [
           {
            "marker": {
             "colorbar": {
              "outlinewidth": 0,
              "ticks": ""
             }
            },
            "type": "scatterpolar"
           }
          ],
          "scatterpolargl": [
           {
            "marker": {
             "colorbar": {
              "outlinewidth": 0,
              "ticks": ""
             }
            },
            "type": "scatterpolargl"
           }
          ],
          "scatterternary": [
           {
            "marker": {
             "colorbar": {
              "outlinewidth": 0,
              "ticks": ""
             }
            },
            "type": "scatterternary"
           }
          ],
          "surface": [
           {
            "colorbar": {
             "outlinewidth": 0,
             "ticks": ""
            },
            "colorscale": [
             [
              0,
              "#0d0887"
             ],
             [
              0.1111111111111111,
              "#46039f"
             ],
             [
              0.2222222222222222,
              "#7201a8"
             ],
             [
              0.3333333333333333,
              "#9c179e"
             ],
             [
              0.4444444444444444,
              "#bd3786"
             ],
             [
              0.5555555555555556,
              "#d8576b"
             ],
             [
              0.6666666666666666,
              "#ed7953"
             ],
             [
              0.7777777777777778,
              "#fb9f3a"
             ],
             [
              0.8888888888888888,
              "#fdca26"
             ],
             [
              1,
              "#f0f921"
             ]
            ],
            "type": "surface"
           }
          ],
          "table": [
           {
            "cells": {
             "fill": {
              "color": "#EBF0F8"
             },
             "line": {
              "color": "white"
             }
            },
            "header": {
             "fill": {
              "color": "#C8D4E3"
             },
             "line": {
              "color": "white"
             }
            },
            "type": "table"
           }
          ]
         },
         "layout": {
          "annotationdefaults": {
           "arrowcolor": "#2a3f5f",
           "arrowhead": 0,
           "arrowwidth": 1
          },
          "autotypenumbers": "strict",
          "coloraxis": {
           "colorbar": {
            "outlinewidth": 0,
            "ticks": ""
           }
          },
          "colorscale": {
           "diverging": [
            [
             0,
             "#8e0152"
            ],
            [
             0.1,
             "#c51b7d"
            ],
            [
             0.2,
             "#de77ae"
            ],
            [
             0.3,
             "#f1b6da"
            ],
            [
             0.4,
             "#fde0ef"
            ],
            [
             0.5,
             "#f7f7f7"
            ],
            [
             0.6,
             "#e6f5d0"
            ],
            [
             0.7,
             "#b8e186"
            ],
            [
             0.8,
             "#7fbc41"
            ],
            [
             0.9,
             "#4d9221"
            ],
            [
             1,
             "#276419"
            ]
           ],
           "sequential": [
            [
             0,
             "#0d0887"
            ],
            [
             0.1111111111111111,
             "#46039f"
            ],
            [
             0.2222222222222222,
             "#7201a8"
            ],
            [
             0.3333333333333333,
             "#9c179e"
            ],
            [
             0.4444444444444444,
             "#bd3786"
            ],
            [
             0.5555555555555556,
             "#d8576b"
            ],
            [
             0.6666666666666666,
             "#ed7953"
            ],
            [
             0.7777777777777778,
             "#fb9f3a"
            ],
            [
             0.8888888888888888,
             "#fdca26"
            ],
            [
             1,
             "#f0f921"
            ]
           ],
           "sequentialminus": [
            [
             0,
             "#0d0887"
            ],
            [
             0.1111111111111111,
             "#46039f"
            ],
            [
             0.2222222222222222,
             "#7201a8"
            ],
            [
             0.3333333333333333,
             "#9c179e"
            ],
            [
             0.4444444444444444,
             "#bd3786"
            ],
            [
             0.5555555555555556,
             "#d8576b"
            ],
            [
             0.6666666666666666,
             "#ed7953"
            ],
            [
             0.7777777777777778,
             "#fb9f3a"
            ],
            [
             0.8888888888888888,
             "#fdca26"
            ],
            [
             1,
             "#f0f921"
            ]
           ]
          },
          "colorway": [
           "#636efa",
           "#EF553B",
           "#00cc96",
           "#ab63fa",
           "#FFA15A",
           "#19d3f3",
           "#FF6692",
           "#B6E880",
           "#FF97FF",
           "#FECB52"
          ],
          "font": {
           "color": "#2a3f5f"
          },
          "geo": {
           "bgcolor": "white",
           "lakecolor": "white",
           "landcolor": "#E5ECF6",
           "showlakes": true,
           "showland": true,
           "subunitcolor": "white"
          },
          "hoverlabel": {
           "align": "left"
          },
          "hovermode": "closest",
          "mapbox": {
           "style": "light"
          },
          "paper_bgcolor": "white",
          "plot_bgcolor": "#E5ECF6",
          "polar": {
           "angularaxis": {
            "gridcolor": "white",
            "linecolor": "white",
            "ticks": ""
           },
           "bgcolor": "#E5ECF6",
           "radialaxis": {
            "gridcolor": "white",
            "linecolor": "white",
            "ticks": ""
           }
          },
          "scene": {
           "xaxis": {
            "backgroundcolor": "#E5ECF6",
            "gridcolor": "white",
            "gridwidth": 2,
            "linecolor": "white",
            "showbackground": true,
            "ticks": "",
            "zerolinecolor": "white"
           },
           "yaxis": {
            "backgroundcolor": "#E5ECF6",
            "gridcolor": "white",
            "gridwidth": 2,
            "linecolor": "white",
            "showbackground": true,
            "ticks": "",
            "zerolinecolor": "white"
           },
           "zaxis": {
            "backgroundcolor": "#E5ECF6",
            "gridcolor": "white",
            "gridwidth": 2,
            "linecolor": "white",
            "showbackground": true,
            "ticks": "",
            "zerolinecolor": "white"
           }
          },
          "shapedefaults": {
           "line": {
            "color": "#2a3f5f"
           }
          },
          "ternary": {
           "aaxis": {
            "gridcolor": "white",
            "linecolor": "white",
            "ticks": ""
           },
           "baxis": {
            "gridcolor": "white",
            "linecolor": "white",
            "ticks": ""
           },
           "bgcolor": "#E5ECF6",
           "caxis": {
            "gridcolor": "white",
            "linecolor": "white",
            "ticks": ""
           }
          },
          "title": {
           "x": 0.05
          },
          "xaxis": {
           "automargin": true,
           "gridcolor": "white",
           "linecolor": "white",
           "ticks": "",
           "title": {
            "standoff": 15
           },
           "zerolinecolor": "white",
           "zerolinewidth": 2
          },
          "yaxis": {
           "automargin": true,
           "gridcolor": "white",
           "linecolor": "white",
           "ticks": "",
           "title": {
            "standoff": 15
           },
           "zerolinecolor": "white",
           "zerolinewidth": 2
          }
         }
        }
       }
      },
      "text/html": [
       "<div>                            <div id=\"800e9e63-27d0-4d24-a2a1-902dfef9677d\" class=\"plotly-graph-div\" style=\"height:525px; width:100%;\"></div>            <script type=\"text/javascript\">                require([\"plotly\"], function(Plotly) {                    window.PLOTLYENV=window.PLOTLYENV || {};                                    if (document.getElementById(\"800e9e63-27d0-4d24-a2a1-902dfef9677d\")) {                    Plotly.newPlot(                        \"800e9e63-27d0-4d24-a2a1-902dfef9677d\",                        [{\"fill\": \"toself\", \"name\": \"France\", \"r\": [36, 21, 42, 27, 47, 26, 17, 60, 23], \"textfont\": {\"size\": 1}, \"theta\": [\"left_side_percent\", \"middle_side_percent\", \"right_side_percent\", \"own_third_percent\", \"middle_third_percent\", \"opposition_third_percent\", \"shot_left_side_percent\", \"shot_middle_side_percent\", \"shot_right_side_percent\"], \"type\": \"scatterpolar\"}],                        {\"template\": {\"data\": {\"bar\": [{\"error_x\": {\"color\": \"#2a3f5f\"}, \"error_y\": {\"color\": \"#2a3f5f\"}, \"marker\": {\"line\": {\"color\": \"#E5ECF6\", \"width\": 0.5}}, \"type\": \"bar\"}], \"barpolar\": [{\"marker\": {\"line\": {\"color\": \"#E5ECF6\", \"width\": 0.5}}, \"type\": \"barpolar\"}], \"carpet\": [{\"aaxis\": {\"endlinecolor\": \"#2a3f5f\", \"gridcolor\": \"white\", \"linecolor\": \"white\", \"minorgridcolor\": \"white\", \"startlinecolor\": \"#2a3f5f\"}, \"baxis\": {\"endlinecolor\": \"#2a3f5f\", \"gridcolor\": \"white\", \"linecolor\": \"white\", \"minorgridcolor\": \"white\", \"startlinecolor\": \"#2a3f5f\"}, \"type\": \"carpet\"}], \"choropleth\": [{\"colorbar\": {\"outlinewidth\": 0, \"ticks\": \"\"}, \"type\": \"choropleth\"}], \"contour\": [{\"colorbar\": {\"outlinewidth\": 0, \"ticks\": \"\"}, \"colorscale\": [[0.0, \"#0d0887\"], [0.1111111111111111, \"#46039f\"], [0.2222222222222222, \"#7201a8\"], [0.3333333333333333, \"#9c179e\"], [0.4444444444444444, \"#bd3786\"], [0.5555555555555556, \"#d8576b\"], [0.6666666666666666, \"#ed7953\"], [0.7777777777777778, \"#fb9f3a\"], [0.8888888888888888, \"#fdca26\"], [1.0, \"#f0f921\"]], \"type\": \"contour\"}], \"contourcarpet\": [{\"colorbar\": {\"outlinewidth\": 0, \"ticks\": \"\"}, \"type\": \"contourcarpet\"}], \"heatmap\": [{\"colorbar\": {\"outlinewidth\": 0, \"ticks\": \"\"}, \"colorscale\": [[0.0, \"#0d0887\"], [0.1111111111111111, \"#46039f\"], [0.2222222222222222, \"#7201a8\"], [0.3333333333333333, \"#9c179e\"], [0.4444444444444444, \"#bd3786\"], [0.5555555555555556, \"#d8576b\"], [0.6666666666666666, \"#ed7953\"], [0.7777777777777778, \"#fb9f3a\"], [0.8888888888888888, \"#fdca26\"], [1.0, \"#f0f921\"]], \"type\": \"heatmap\"}], \"heatmapgl\": [{\"colorbar\": {\"outlinewidth\": 0, \"ticks\": \"\"}, \"colorscale\": [[0.0, \"#0d0887\"], [0.1111111111111111, \"#46039f\"], [0.2222222222222222, \"#7201a8\"], [0.3333333333333333, \"#9c179e\"], [0.4444444444444444, \"#bd3786\"], [0.5555555555555556, \"#d8576b\"], [0.6666666666666666, \"#ed7953\"], [0.7777777777777778, \"#fb9f3a\"], [0.8888888888888888, \"#fdca26\"], [1.0, \"#f0f921\"]], \"type\": \"heatmapgl\"}], \"histogram\": [{\"marker\": {\"colorbar\": {\"outlinewidth\": 0, \"ticks\": \"\"}}, \"type\": \"histogram\"}], \"histogram2d\": [{\"colorbar\": {\"outlinewidth\": 0, \"ticks\": \"\"}, \"colorscale\": [[0.0, \"#0d0887\"], [0.1111111111111111, \"#46039f\"], [0.2222222222222222, \"#7201a8\"], [0.3333333333333333, \"#9c179e\"], [0.4444444444444444, \"#bd3786\"], [0.5555555555555556, \"#d8576b\"], [0.6666666666666666, \"#ed7953\"], [0.7777777777777778, \"#fb9f3a\"], [0.8888888888888888, \"#fdca26\"], [1.0, \"#f0f921\"]], \"type\": \"histogram2d\"}], \"histogram2dcontour\": [{\"colorbar\": {\"outlinewidth\": 0, \"ticks\": \"\"}, \"colorscale\": [[0.0, \"#0d0887\"], [0.1111111111111111, \"#46039f\"], [0.2222222222222222, \"#7201a8\"], [0.3333333333333333, \"#9c179e\"], [0.4444444444444444, \"#bd3786\"], [0.5555555555555556, \"#d8576b\"], [0.6666666666666666, \"#ed7953\"], [0.7777777777777778, \"#fb9f3a\"], [0.8888888888888888, \"#fdca26\"], [1.0, \"#f0f921\"]], \"type\": \"histogram2dcontour\"}], \"mesh3d\": [{\"colorbar\": {\"outlinewidth\": 0, \"ticks\": \"\"}, \"type\": \"mesh3d\"}], \"parcoords\": [{\"line\": {\"colorbar\": {\"outlinewidth\": 0, \"ticks\": \"\"}}, \"type\": \"parcoords\"}], \"pie\": [{\"automargin\": true, \"type\": \"pie\"}], \"scatter\": [{\"marker\": {\"colorbar\": {\"outlinewidth\": 0, \"ticks\": \"\"}}, \"type\": \"scatter\"}], \"scatter3d\": [{\"line\": {\"colorbar\": {\"outlinewidth\": 0, \"ticks\": \"\"}}, \"marker\": {\"colorbar\": {\"outlinewidth\": 0, \"ticks\": \"\"}}, \"type\": \"scatter3d\"}], \"scattercarpet\": [{\"marker\": {\"colorbar\": {\"outlinewidth\": 0, \"ticks\": \"\"}}, \"type\": \"scattercarpet\"}], \"scattergeo\": [{\"marker\": {\"colorbar\": {\"outlinewidth\": 0, \"ticks\": \"\"}}, \"type\": \"scattergeo\"}], \"scattergl\": [{\"marker\": {\"colorbar\": {\"outlinewidth\": 0, \"ticks\": \"\"}}, \"type\": \"scattergl\"}], \"scattermapbox\": [{\"marker\": {\"colorbar\": {\"outlinewidth\": 0, \"ticks\": \"\"}}, \"type\": \"scattermapbox\"}], \"scatterpolar\": [{\"marker\": {\"colorbar\": {\"outlinewidth\": 0, \"ticks\": \"\"}}, \"type\": \"scatterpolar\"}], \"scatterpolargl\": [{\"marker\": {\"colorbar\": {\"outlinewidth\": 0, \"ticks\": \"\"}}, \"type\": \"scatterpolargl\"}], \"scatterternary\": [{\"marker\": {\"colorbar\": {\"outlinewidth\": 0, \"ticks\": \"\"}}, \"type\": \"scatterternary\"}], \"surface\": [{\"colorbar\": {\"outlinewidth\": 0, \"ticks\": \"\"}, \"colorscale\": [[0.0, \"#0d0887\"], [0.1111111111111111, \"#46039f\"], [0.2222222222222222, \"#7201a8\"], [0.3333333333333333, \"#9c179e\"], [0.4444444444444444, \"#bd3786\"], [0.5555555555555556, \"#d8576b\"], [0.6666666666666666, \"#ed7953\"], [0.7777777777777778, \"#fb9f3a\"], [0.8888888888888888, \"#fdca26\"], [1.0, \"#f0f921\"]], \"type\": \"surface\"}], \"table\": [{\"cells\": {\"fill\": {\"color\": \"#EBF0F8\"}, \"line\": {\"color\": \"white\"}}, \"header\": {\"fill\": {\"color\": \"#C8D4E3\"}, \"line\": {\"color\": \"white\"}}, \"type\": \"table\"}]}, \"layout\": {\"annotationdefaults\": {\"arrowcolor\": \"#2a3f5f\", \"arrowhead\": 0, \"arrowwidth\": 1}, \"autotypenumbers\": \"strict\", \"coloraxis\": {\"colorbar\": {\"outlinewidth\": 0, \"ticks\": \"\"}}, \"colorscale\": {\"diverging\": [[0, \"#8e0152\"], [0.1, \"#c51b7d\"], [0.2, \"#de77ae\"], [0.3, \"#f1b6da\"], [0.4, \"#fde0ef\"], [0.5, \"#f7f7f7\"], [0.6, \"#e6f5d0\"], [0.7, \"#b8e186\"], [0.8, \"#7fbc41\"], [0.9, \"#4d9221\"], [1, \"#276419\"]], \"sequential\": [[0.0, \"#0d0887\"], [0.1111111111111111, \"#46039f\"], [0.2222222222222222, \"#7201a8\"], [0.3333333333333333, \"#9c179e\"], [0.4444444444444444, \"#bd3786\"], [0.5555555555555556, \"#d8576b\"], [0.6666666666666666, \"#ed7953\"], [0.7777777777777778, \"#fb9f3a\"], [0.8888888888888888, \"#fdca26\"], [1.0, \"#f0f921\"]], \"sequentialminus\": [[0.0, \"#0d0887\"], [0.1111111111111111, \"#46039f\"], [0.2222222222222222, \"#7201a8\"], [0.3333333333333333, \"#9c179e\"], [0.4444444444444444, \"#bd3786\"], [0.5555555555555556, \"#d8576b\"], [0.6666666666666666, \"#ed7953\"], [0.7777777777777778, \"#fb9f3a\"], [0.8888888888888888, \"#fdca26\"], [1.0, \"#f0f921\"]]}, \"colorway\": [\"#636efa\", \"#EF553B\", \"#00cc96\", \"#ab63fa\", \"#FFA15A\", \"#19d3f3\", \"#FF6692\", \"#B6E880\", \"#FF97FF\", \"#FECB52\"], \"font\": {\"color\": \"#2a3f5f\"}, \"geo\": {\"bgcolor\": \"white\", \"lakecolor\": \"white\", \"landcolor\": \"#E5ECF6\", \"showlakes\": true, \"showland\": true, \"subunitcolor\": \"white\"}, \"hoverlabel\": {\"align\": \"left\"}, \"hovermode\": \"closest\", \"mapbox\": {\"style\": \"light\"}, \"paper_bgcolor\": \"white\", \"plot_bgcolor\": \"#E5ECF6\", \"polar\": {\"angularaxis\": {\"gridcolor\": \"white\", \"linecolor\": \"white\", \"ticks\": \"\"}, \"bgcolor\": \"#E5ECF6\", \"radialaxis\": {\"gridcolor\": \"white\", \"linecolor\": \"white\", \"ticks\": \"\"}}, \"scene\": {\"xaxis\": {\"backgroundcolor\": \"#E5ECF6\", \"gridcolor\": \"white\", \"gridwidth\": 2, \"linecolor\": \"white\", \"showbackground\": true, \"ticks\": \"\", \"zerolinecolor\": \"white\"}, \"yaxis\": {\"backgroundcolor\": \"#E5ECF6\", \"gridcolor\": \"white\", \"gridwidth\": 2, \"linecolor\": \"white\", \"showbackground\": true, \"ticks\": \"\", \"zerolinecolor\": \"white\"}, \"zaxis\": {\"backgroundcolor\": \"#E5ECF6\", \"gridcolor\": \"white\", \"gridwidth\": 2, \"linecolor\": \"white\", \"showbackground\": true, \"ticks\": \"\", \"zerolinecolor\": \"white\"}}, \"shapedefaults\": {\"line\": {\"color\": \"#2a3f5f\"}}, \"ternary\": {\"aaxis\": {\"gridcolor\": \"white\", \"linecolor\": \"white\", \"ticks\": \"\"}, \"baxis\": {\"gridcolor\": \"white\", \"linecolor\": \"white\", \"ticks\": \"\"}, \"bgcolor\": \"#E5ECF6\", \"caxis\": {\"gridcolor\": \"white\", \"linecolor\": \"white\", \"ticks\": \"\"}}, \"title\": {\"x\": 0.05}, \"xaxis\": {\"automargin\": true, \"gridcolor\": \"white\", \"linecolor\": \"white\", \"ticks\": \"\", \"title\": {\"standoff\": 15}, \"zerolinecolor\": \"white\", \"zerolinewidth\": 2}, \"yaxis\": {\"automargin\": true, \"gridcolor\": \"white\", \"linecolor\": \"white\", \"ticks\": \"\", \"title\": {\"standoff\": 15}, \"zerolinecolor\": \"white\", \"zerolinewidth\": 2}}}},                        {\"responsive\": true}                    ).then(function(){\n",
       "                            \n",
       "var gd = document.getElementById('800e9e63-27d0-4d24-a2a1-902dfef9677d');\n",
       "var x = new MutationObserver(function (mutations, observer) {{\n",
       "        var display = window.getComputedStyle(gd).display;\n",
       "        if (!display || display === 'none') {{\n",
       "            console.log([gd, 'removed!']);\n",
       "            Plotly.purge(gd);\n",
       "            observer.disconnect();\n",
       "        }}\n",
       "}});\n",
       "\n",
       "// Listen for the removal of the full notebook cells\n",
       "var notebookContainer = gd.closest('#notebook-container');\n",
       "if (notebookContainer) {{\n",
       "    x.observe(notebookContainer, {childList: true});\n",
       "}}\n",
       "\n",
       "// Listen for the clearing of the current output cell\n",
       "var outputEl = gd.closest('.output');\n",
       "if (outputEl) {{\n",
       "    x.observe(outputEl, {childList: true});\n",
       "}}\n",
       "\n",
       "                        })                };                });            </script>        </div>"
      ]
     },
     "metadata": {},
     "output_type": "display_data"
    },
    {
     "data": {
      "application/vnd.plotly.v1+json": {
       "config": {
        "plotlyServerURL": "https://plot.ly"
       },
       "data": [
        {
         "fill": "toself",
         "name": "France",
         "r": [
          36,
          21,
          42,
          27,
          47,
          26,
          17,
          60,
          23
         ],
         "textfont": {
          "size": 1
         },
         "theta": [
          "left_side_percent",
          "middle_side_percent",
          "right_side_percent",
          "own_third_percent",
          "middle_third_percent",
          "opposition_third_percent",
          "shot_left_side_percent",
          "shot_middle_side_percent",
          "shot_right_side_percent"
         ],
         "type": "scatterpolar"
        },
        {
         "fill": "toself",
         "name": "Panama",
         "r": [
          44,
          23,
          33,
          26,
          54,
          20,
          24,
          60,
          16
         ],
         "textfont": {
          "size": 1
         },
         "theta": [
          "left_side_percent",
          "middle_side_percent",
          "right_side_percent",
          "own_third_percent",
          "middle_third_percent",
          "opposition_third_percent",
          "shot_left_side_percent",
          "shot_middle_side_percent",
          "shot_right_side_percent"
         ],
         "type": "scatterpolar"
        }
       ],
       "layout": {
        "template": {
         "data": {
          "bar": [
           {
            "error_x": {
             "color": "#2a3f5f"
            },
            "error_y": {
             "color": "#2a3f5f"
            },
            "marker": {
             "line": {
              "color": "#E5ECF6",
              "width": 0.5
             }
            },
            "type": "bar"
           }
          ],
          "barpolar": [
           {
            "marker": {
             "line": {
              "color": "#E5ECF6",
              "width": 0.5
             }
            },
            "type": "barpolar"
           }
          ],
          "carpet": [
           {
            "aaxis": {
             "endlinecolor": "#2a3f5f",
             "gridcolor": "white",
             "linecolor": "white",
             "minorgridcolor": "white",
             "startlinecolor": "#2a3f5f"
            },
            "baxis": {
             "endlinecolor": "#2a3f5f",
             "gridcolor": "white",
             "linecolor": "white",
             "minorgridcolor": "white",
             "startlinecolor": "#2a3f5f"
            },
            "type": "carpet"
           }
          ],
          "choropleth": [
           {
            "colorbar": {
             "outlinewidth": 0,
             "ticks": ""
            },
            "type": "choropleth"
           }
          ],
          "contour": [
           {
            "colorbar": {
             "outlinewidth": 0,
             "ticks": ""
            },
            "colorscale": [
             [
              0,
              "#0d0887"
             ],
             [
              0.1111111111111111,
              "#46039f"
             ],
             [
              0.2222222222222222,
              "#7201a8"
             ],
             [
              0.3333333333333333,
              "#9c179e"
             ],
             [
              0.4444444444444444,
              "#bd3786"
             ],
             [
              0.5555555555555556,
              "#d8576b"
             ],
             [
              0.6666666666666666,
              "#ed7953"
             ],
             [
              0.7777777777777778,
              "#fb9f3a"
             ],
             [
              0.8888888888888888,
              "#fdca26"
             ],
             [
              1,
              "#f0f921"
             ]
            ],
            "type": "contour"
           }
          ],
          "contourcarpet": [
           {
            "colorbar": {
             "outlinewidth": 0,
             "ticks": ""
            },
            "type": "contourcarpet"
           }
          ],
          "heatmap": [
           {
            "colorbar": {
             "outlinewidth": 0,
             "ticks": ""
            },
            "colorscale": [
             [
              0,
              "#0d0887"
             ],
             [
              0.1111111111111111,
              "#46039f"
             ],
             [
              0.2222222222222222,
              "#7201a8"
             ],
             [
              0.3333333333333333,
              "#9c179e"
             ],
             [
              0.4444444444444444,
              "#bd3786"
             ],
             [
              0.5555555555555556,
              "#d8576b"
             ],
             [
              0.6666666666666666,
              "#ed7953"
             ],
             [
              0.7777777777777778,
              "#fb9f3a"
             ],
             [
              0.8888888888888888,
              "#fdca26"
             ],
             [
              1,
              "#f0f921"
             ]
            ],
            "type": "heatmap"
           }
          ],
          "heatmapgl": [
           {
            "colorbar": {
             "outlinewidth": 0,
             "ticks": ""
            },
            "colorscale": [
             [
              0,
              "#0d0887"
             ],
             [
              0.1111111111111111,
              "#46039f"
             ],
             [
              0.2222222222222222,
              "#7201a8"
             ],
             [
              0.3333333333333333,
              "#9c179e"
             ],
             [
              0.4444444444444444,
              "#bd3786"
             ],
             [
              0.5555555555555556,
              "#d8576b"
             ],
             [
              0.6666666666666666,
              "#ed7953"
             ],
             [
              0.7777777777777778,
              "#fb9f3a"
             ],
             [
              0.8888888888888888,
              "#fdca26"
             ],
             [
              1,
              "#f0f921"
             ]
            ],
            "type": "heatmapgl"
           }
          ],
          "histogram": [
           {
            "marker": {
             "colorbar": {
              "outlinewidth": 0,
              "ticks": ""
             }
            },
            "type": "histogram"
           }
          ],
          "histogram2d": [
           {
            "colorbar": {
             "outlinewidth": 0,
             "ticks": ""
            },
            "colorscale": [
             [
              0,
              "#0d0887"
             ],
             [
              0.1111111111111111,
              "#46039f"
             ],
             [
              0.2222222222222222,
              "#7201a8"
             ],
             [
              0.3333333333333333,
              "#9c179e"
             ],
             [
              0.4444444444444444,
              "#bd3786"
             ],
             [
              0.5555555555555556,
              "#d8576b"
             ],
             [
              0.6666666666666666,
              "#ed7953"
             ],
             [
              0.7777777777777778,
              "#fb9f3a"
             ],
             [
              0.8888888888888888,
              "#fdca26"
             ],
             [
              1,
              "#f0f921"
             ]
            ],
            "type": "histogram2d"
           }
          ],
          "histogram2dcontour": [
           {
            "colorbar": {
             "outlinewidth": 0,
             "ticks": ""
            },
            "colorscale": [
             [
              0,
              "#0d0887"
             ],
             [
              0.1111111111111111,
              "#46039f"
             ],
             [
              0.2222222222222222,
              "#7201a8"
             ],
             [
              0.3333333333333333,
              "#9c179e"
             ],
             [
              0.4444444444444444,
              "#bd3786"
             ],
             [
              0.5555555555555556,
              "#d8576b"
             ],
             [
              0.6666666666666666,
              "#ed7953"
             ],
             [
              0.7777777777777778,
              "#fb9f3a"
             ],
             [
              0.8888888888888888,
              "#fdca26"
             ],
             [
              1,
              "#f0f921"
             ]
            ],
            "type": "histogram2dcontour"
           }
          ],
          "mesh3d": [
           {
            "colorbar": {
             "outlinewidth": 0,
             "ticks": ""
            },
            "type": "mesh3d"
           }
          ],
          "parcoords": [
           {
            "line": {
             "colorbar": {
              "outlinewidth": 0,
              "ticks": ""
             }
            },
            "type": "parcoords"
           }
          ],
          "pie": [
           {
            "automargin": true,
            "type": "pie"
           }
          ],
          "scatter": [
           {
            "marker": {
             "colorbar": {
              "outlinewidth": 0,
              "ticks": ""
             }
            },
            "type": "scatter"
           }
          ],
          "scatter3d": [
           {
            "line": {
             "colorbar": {
              "outlinewidth": 0,
              "ticks": ""
             }
            },
            "marker": {
             "colorbar": {
              "outlinewidth": 0,
              "ticks": ""
             }
            },
            "type": "scatter3d"
           }
          ],
          "scattercarpet": [
           {
            "marker": {
             "colorbar": {
              "outlinewidth": 0,
              "ticks": ""
             }
            },
            "type": "scattercarpet"
           }
          ],
          "scattergeo": [
           {
            "marker": {
             "colorbar": {
              "outlinewidth": 0,
              "ticks": ""
             }
            },
            "type": "scattergeo"
           }
          ],
          "scattergl": [
           {
            "marker": {
             "colorbar": {
              "outlinewidth": 0,
              "ticks": ""
             }
            },
            "type": "scattergl"
           }
          ],
          "scattermapbox": [
           {
            "marker": {
             "colorbar": {
              "outlinewidth": 0,
              "ticks": ""
             }
            },
            "type": "scattermapbox"
           }
          ],
          "scatterpolar": [
           {
            "marker": {
             "colorbar": {
              "outlinewidth": 0,
              "ticks": ""
             }
            },
            "type": "scatterpolar"
           }
          ],
          "scatterpolargl": [
           {
            "marker": {
             "colorbar": {
              "outlinewidth": 0,
              "ticks": ""
             }
            },
            "type": "scatterpolargl"
           }
          ],
          "scatterternary": [
           {
            "marker": {
             "colorbar": {
              "outlinewidth": 0,
              "ticks": ""
             }
            },
            "type": "scatterternary"
           }
          ],
          "surface": [
           {
            "colorbar": {
             "outlinewidth": 0,
             "ticks": ""
            },
            "colorscale": [
             [
              0,
              "#0d0887"
             ],
             [
              0.1111111111111111,
              "#46039f"
             ],
             [
              0.2222222222222222,
              "#7201a8"
             ],
             [
              0.3333333333333333,
              "#9c179e"
             ],
             [
              0.4444444444444444,
              "#bd3786"
             ],
             [
              0.5555555555555556,
              "#d8576b"
             ],
             [
              0.6666666666666666,
              "#ed7953"
             ],
             [
              0.7777777777777778,
              "#fb9f3a"
             ],
             [
              0.8888888888888888,
              "#fdca26"
             ],
             [
              1,
              "#f0f921"
             ]
            ],
            "type": "surface"
           }
          ],
          "table": [
           {
            "cells": {
             "fill": {
              "color": "#EBF0F8"
             },
             "line": {
              "color": "white"
             }
            },
            "header": {
             "fill": {
              "color": "#C8D4E3"
             },
             "line": {
              "color": "white"
             }
            },
            "type": "table"
           }
          ]
         },
         "layout": {
          "annotationdefaults": {
           "arrowcolor": "#2a3f5f",
           "arrowhead": 0,
           "arrowwidth": 1
          },
          "autotypenumbers": "strict",
          "coloraxis": {
           "colorbar": {
            "outlinewidth": 0,
            "ticks": ""
           }
          },
          "colorscale": {
           "diverging": [
            [
             0,
             "#8e0152"
            ],
            [
             0.1,
             "#c51b7d"
            ],
            [
             0.2,
             "#de77ae"
            ],
            [
             0.3,
             "#f1b6da"
            ],
            [
             0.4,
             "#fde0ef"
            ],
            [
             0.5,
             "#f7f7f7"
            ],
            [
             0.6,
             "#e6f5d0"
            ],
            [
             0.7,
             "#b8e186"
            ],
            [
             0.8,
             "#7fbc41"
            ],
            [
             0.9,
             "#4d9221"
            ],
            [
             1,
             "#276419"
            ]
           ],
           "sequential": [
            [
             0,
             "#0d0887"
            ],
            [
             0.1111111111111111,
             "#46039f"
            ],
            [
             0.2222222222222222,
             "#7201a8"
            ],
            [
             0.3333333333333333,
             "#9c179e"
            ],
            [
             0.4444444444444444,
             "#bd3786"
            ],
            [
             0.5555555555555556,
             "#d8576b"
            ],
            [
             0.6666666666666666,
             "#ed7953"
            ],
            [
             0.7777777777777778,
             "#fb9f3a"
            ],
            [
             0.8888888888888888,
             "#fdca26"
            ],
            [
             1,
             "#f0f921"
            ]
           ],
           "sequentialminus": [
            [
             0,
             "#0d0887"
            ],
            [
             0.1111111111111111,
             "#46039f"
            ],
            [
             0.2222222222222222,
             "#7201a8"
            ],
            [
             0.3333333333333333,
             "#9c179e"
            ],
            [
             0.4444444444444444,
             "#bd3786"
            ],
            [
             0.5555555555555556,
             "#d8576b"
            ],
            [
             0.6666666666666666,
             "#ed7953"
            ],
            [
             0.7777777777777778,
             "#fb9f3a"
            ],
            [
             0.8888888888888888,
             "#fdca26"
            ],
            [
             1,
             "#f0f921"
            ]
           ]
          },
          "colorway": [
           "#636efa",
           "#EF553B",
           "#00cc96",
           "#ab63fa",
           "#FFA15A",
           "#19d3f3",
           "#FF6692",
           "#B6E880",
           "#FF97FF",
           "#FECB52"
          ],
          "font": {
           "color": "#2a3f5f"
          },
          "geo": {
           "bgcolor": "white",
           "lakecolor": "white",
           "landcolor": "#E5ECF6",
           "showlakes": true,
           "showland": true,
           "subunitcolor": "white"
          },
          "hoverlabel": {
           "align": "left"
          },
          "hovermode": "closest",
          "mapbox": {
           "style": "light"
          },
          "paper_bgcolor": "white",
          "plot_bgcolor": "#E5ECF6",
          "polar": {
           "angularaxis": {
            "gridcolor": "white",
            "linecolor": "white",
            "ticks": ""
           },
           "bgcolor": "#E5ECF6",
           "radialaxis": {
            "gridcolor": "white",
            "linecolor": "white",
            "ticks": ""
           }
          },
          "scene": {
           "xaxis": {
            "backgroundcolor": "#E5ECF6",
            "gridcolor": "white",
            "gridwidth": 2,
            "linecolor": "white",
            "showbackground": true,
            "ticks": "",
            "zerolinecolor": "white"
           },
           "yaxis": {
            "backgroundcolor": "#E5ECF6",
            "gridcolor": "white",
            "gridwidth": 2,
            "linecolor": "white",
            "showbackground": true,
            "ticks": "",
            "zerolinecolor": "white"
           },
           "zaxis": {
            "backgroundcolor": "#E5ECF6",
            "gridcolor": "white",
            "gridwidth": 2,
            "linecolor": "white",
            "showbackground": true,
            "ticks": "",
            "zerolinecolor": "white"
           }
          },
          "shapedefaults": {
           "line": {
            "color": "#2a3f5f"
           }
          },
          "ternary": {
           "aaxis": {
            "gridcolor": "white",
            "linecolor": "white",
            "ticks": ""
           },
           "baxis": {
            "gridcolor": "white",
            "linecolor": "white",
            "ticks": ""
           },
           "bgcolor": "#E5ECF6",
           "caxis": {
            "gridcolor": "white",
            "linecolor": "white",
            "ticks": ""
           }
          },
          "title": {
           "x": 0.05
          },
          "xaxis": {
           "automargin": true,
           "gridcolor": "white",
           "linecolor": "white",
           "ticks": "",
           "title": {
            "standoff": 15
           },
           "zerolinecolor": "white",
           "zerolinewidth": 2
          },
          "yaxis": {
           "automargin": true,
           "gridcolor": "white",
           "linecolor": "white",
           "ticks": "",
           "title": {
            "standoff": 15
           },
           "zerolinecolor": "white",
           "zerolinewidth": 2
          }
         }
        }
       }
      },
      "text/html": [
       "<div>                            <div id=\"adc99136-ebef-4820-b4ba-3a2f12c9e346\" class=\"plotly-graph-div\" style=\"height:525px; width:100%;\"></div>            <script type=\"text/javascript\">                require([\"plotly\"], function(Plotly) {                    window.PLOTLYENV=window.PLOTLYENV || {};                                    if (document.getElementById(\"adc99136-ebef-4820-b4ba-3a2f12c9e346\")) {                    Plotly.newPlot(                        \"adc99136-ebef-4820-b4ba-3a2f12c9e346\",                        [{\"fill\": \"toself\", \"name\": \"France\", \"r\": [36, 21, 42, 27, 47, 26, 17, 60, 23], \"textfont\": {\"size\": 1}, \"theta\": [\"left_side_percent\", \"middle_side_percent\", \"right_side_percent\", \"own_third_percent\", \"middle_third_percent\", \"opposition_third_percent\", \"shot_left_side_percent\", \"shot_middle_side_percent\", \"shot_right_side_percent\"], \"type\": \"scatterpolar\"}, {\"fill\": \"toself\", \"name\": \"Panama\", \"r\": [44, 23, 33, 26, 54, 20, 24, 60, 16], \"textfont\": {\"size\": 1}, \"theta\": [\"left_side_percent\", \"middle_side_percent\", \"right_side_percent\", \"own_third_percent\", \"middle_third_percent\", \"opposition_third_percent\", \"shot_left_side_percent\", \"shot_middle_side_percent\", \"shot_right_side_percent\"], \"type\": \"scatterpolar\"}],                        {\"template\": {\"data\": {\"bar\": [{\"error_x\": {\"color\": \"#2a3f5f\"}, \"error_y\": {\"color\": \"#2a3f5f\"}, \"marker\": {\"line\": {\"color\": \"#E5ECF6\", \"width\": 0.5}}, \"type\": \"bar\"}], \"barpolar\": [{\"marker\": {\"line\": {\"color\": \"#E5ECF6\", \"width\": 0.5}}, \"type\": \"barpolar\"}], \"carpet\": [{\"aaxis\": {\"endlinecolor\": \"#2a3f5f\", \"gridcolor\": \"white\", \"linecolor\": \"white\", \"minorgridcolor\": \"white\", \"startlinecolor\": \"#2a3f5f\"}, \"baxis\": {\"endlinecolor\": \"#2a3f5f\", \"gridcolor\": \"white\", \"linecolor\": \"white\", \"minorgridcolor\": \"white\", \"startlinecolor\": \"#2a3f5f\"}, \"type\": \"carpet\"}], \"choropleth\": [{\"colorbar\": {\"outlinewidth\": 0, \"ticks\": \"\"}, \"type\": \"choropleth\"}], \"contour\": [{\"colorbar\": {\"outlinewidth\": 0, \"ticks\": \"\"}, \"colorscale\": [[0.0, \"#0d0887\"], [0.1111111111111111, \"#46039f\"], [0.2222222222222222, \"#7201a8\"], [0.3333333333333333, \"#9c179e\"], [0.4444444444444444, \"#bd3786\"], [0.5555555555555556, \"#d8576b\"], [0.6666666666666666, \"#ed7953\"], [0.7777777777777778, \"#fb9f3a\"], [0.8888888888888888, \"#fdca26\"], [1.0, \"#f0f921\"]], \"type\": \"contour\"}], \"contourcarpet\": [{\"colorbar\": {\"outlinewidth\": 0, \"ticks\": \"\"}, \"type\": \"contourcarpet\"}], \"heatmap\": [{\"colorbar\": {\"outlinewidth\": 0, \"ticks\": \"\"}, \"colorscale\": [[0.0, \"#0d0887\"], [0.1111111111111111, \"#46039f\"], [0.2222222222222222, \"#7201a8\"], [0.3333333333333333, \"#9c179e\"], [0.4444444444444444, \"#bd3786\"], [0.5555555555555556, \"#d8576b\"], [0.6666666666666666, \"#ed7953\"], [0.7777777777777778, \"#fb9f3a\"], [0.8888888888888888, \"#fdca26\"], [1.0, \"#f0f921\"]], \"type\": \"heatmap\"}], \"heatmapgl\": [{\"colorbar\": {\"outlinewidth\": 0, \"ticks\": \"\"}, \"colorscale\": [[0.0, \"#0d0887\"], [0.1111111111111111, \"#46039f\"], [0.2222222222222222, \"#7201a8\"], [0.3333333333333333, \"#9c179e\"], [0.4444444444444444, \"#bd3786\"], [0.5555555555555556, \"#d8576b\"], [0.6666666666666666, \"#ed7953\"], [0.7777777777777778, \"#fb9f3a\"], [0.8888888888888888, \"#fdca26\"], [1.0, \"#f0f921\"]], \"type\": \"heatmapgl\"}], \"histogram\": [{\"marker\": {\"colorbar\": {\"outlinewidth\": 0, \"ticks\": \"\"}}, \"type\": \"histogram\"}], \"histogram2d\": [{\"colorbar\": {\"outlinewidth\": 0, \"ticks\": \"\"}, \"colorscale\": [[0.0, \"#0d0887\"], [0.1111111111111111, \"#46039f\"], [0.2222222222222222, \"#7201a8\"], [0.3333333333333333, \"#9c179e\"], [0.4444444444444444, \"#bd3786\"], [0.5555555555555556, \"#d8576b\"], [0.6666666666666666, \"#ed7953\"], [0.7777777777777778, \"#fb9f3a\"], [0.8888888888888888, \"#fdca26\"], [1.0, \"#f0f921\"]], \"type\": \"histogram2d\"}], \"histogram2dcontour\": [{\"colorbar\": {\"outlinewidth\": 0, \"ticks\": \"\"}, \"colorscale\": [[0.0, \"#0d0887\"], [0.1111111111111111, \"#46039f\"], [0.2222222222222222, \"#7201a8\"], [0.3333333333333333, \"#9c179e\"], [0.4444444444444444, \"#bd3786\"], [0.5555555555555556, \"#d8576b\"], [0.6666666666666666, \"#ed7953\"], [0.7777777777777778, \"#fb9f3a\"], [0.8888888888888888, \"#fdca26\"], [1.0, \"#f0f921\"]], \"type\": \"histogram2dcontour\"}], \"mesh3d\": [{\"colorbar\": {\"outlinewidth\": 0, \"ticks\": \"\"}, \"type\": \"mesh3d\"}], \"parcoords\": [{\"line\": {\"colorbar\": {\"outlinewidth\": 0, \"ticks\": \"\"}}, \"type\": \"parcoords\"}], \"pie\": [{\"automargin\": true, \"type\": \"pie\"}], \"scatter\": [{\"marker\": {\"colorbar\": {\"outlinewidth\": 0, \"ticks\": \"\"}}, \"type\": \"scatter\"}], \"scatter3d\": [{\"line\": {\"colorbar\": {\"outlinewidth\": 0, \"ticks\": \"\"}}, \"marker\": {\"colorbar\": {\"outlinewidth\": 0, \"ticks\": \"\"}}, \"type\": \"scatter3d\"}], \"scattercarpet\": [{\"marker\": {\"colorbar\": {\"outlinewidth\": 0, \"ticks\": \"\"}}, \"type\": \"scattercarpet\"}], \"scattergeo\": [{\"marker\": {\"colorbar\": {\"outlinewidth\": 0, \"ticks\": \"\"}}, \"type\": \"scattergeo\"}], \"scattergl\": [{\"marker\": {\"colorbar\": {\"outlinewidth\": 0, \"ticks\": \"\"}}, \"type\": \"scattergl\"}], \"scattermapbox\": [{\"marker\": {\"colorbar\": {\"outlinewidth\": 0, \"ticks\": \"\"}}, \"type\": \"scattermapbox\"}], \"scatterpolar\": [{\"marker\": {\"colorbar\": {\"outlinewidth\": 0, \"ticks\": \"\"}}, \"type\": \"scatterpolar\"}], \"scatterpolargl\": [{\"marker\": {\"colorbar\": {\"outlinewidth\": 0, \"ticks\": \"\"}}, \"type\": \"scatterpolargl\"}], \"scatterternary\": [{\"marker\": {\"colorbar\": {\"outlinewidth\": 0, \"ticks\": \"\"}}, \"type\": \"scatterternary\"}], \"surface\": [{\"colorbar\": {\"outlinewidth\": 0, \"ticks\": \"\"}, \"colorscale\": [[0.0, \"#0d0887\"], [0.1111111111111111, \"#46039f\"], [0.2222222222222222, \"#7201a8\"], [0.3333333333333333, \"#9c179e\"], [0.4444444444444444, \"#bd3786\"], [0.5555555555555556, \"#d8576b\"], [0.6666666666666666, \"#ed7953\"], [0.7777777777777778, \"#fb9f3a\"], [0.8888888888888888, \"#fdca26\"], [1.0, \"#f0f921\"]], \"type\": \"surface\"}], \"table\": [{\"cells\": {\"fill\": {\"color\": \"#EBF0F8\"}, \"line\": {\"color\": \"white\"}}, \"header\": {\"fill\": {\"color\": \"#C8D4E3\"}, \"line\": {\"color\": \"white\"}}, \"type\": \"table\"}]}, \"layout\": {\"annotationdefaults\": {\"arrowcolor\": \"#2a3f5f\", \"arrowhead\": 0, \"arrowwidth\": 1}, \"autotypenumbers\": \"strict\", \"coloraxis\": {\"colorbar\": {\"outlinewidth\": 0, \"ticks\": \"\"}}, \"colorscale\": {\"diverging\": [[0, \"#8e0152\"], [0.1, \"#c51b7d\"], [0.2, \"#de77ae\"], [0.3, \"#f1b6da\"], [0.4, \"#fde0ef\"], [0.5, \"#f7f7f7\"], [0.6, \"#e6f5d0\"], [0.7, \"#b8e186\"], [0.8, \"#7fbc41\"], [0.9, \"#4d9221\"], [1, \"#276419\"]], \"sequential\": [[0.0, \"#0d0887\"], [0.1111111111111111, \"#46039f\"], [0.2222222222222222, \"#7201a8\"], [0.3333333333333333, \"#9c179e\"], [0.4444444444444444, \"#bd3786\"], [0.5555555555555556, \"#d8576b\"], [0.6666666666666666, \"#ed7953\"], [0.7777777777777778, \"#fb9f3a\"], [0.8888888888888888, \"#fdca26\"], [1.0, \"#f0f921\"]], \"sequentialminus\": [[0.0, \"#0d0887\"], [0.1111111111111111, \"#46039f\"], [0.2222222222222222, \"#7201a8\"], [0.3333333333333333, \"#9c179e\"], [0.4444444444444444, \"#bd3786\"], [0.5555555555555556, \"#d8576b\"], [0.6666666666666666, \"#ed7953\"], [0.7777777777777778, \"#fb9f3a\"], [0.8888888888888888, \"#fdca26\"], [1.0, \"#f0f921\"]]}, \"colorway\": [\"#636efa\", \"#EF553B\", \"#00cc96\", \"#ab63fa\", \"#FFA15A\", \"#19d3f3\", \"#FF6692\", \"#B6E880\", \"#FF97FF\", \"#FECB52\"], \"font\": {\"color\": \"#2a3f5f\"}, \"geo\": {\"bgcolor\": \"white\", \"lakecolor\": \"white\", \"landcolor\": \"#E5ECF6\", \"showlakes\": true, \"showland\": true, \"subunitcolor\": \"white\"}, \"hoverlabel\": {\"align\": \"left\"}, \"hovermode\": \"closest\", \"mapbox\": {\"style\": \"light\"}, \"paper_bgcolor\": \"white\", \"plot_bgcolor\": \"#E5ECF6\", \"polar\": {\"angularaxis\": {\"gridcolor\": \"white\", \"linecolor\": \"white\", \"ticks\": \"\"}, \"bgcolor\": \"#E5ECF6\", \"radialaxis\": {\"gridcolor\": \"white\", \"linecolor\": \"white\", \"ticks\": \"\"}}, \"scene\": {\"xaxis\": {\"backgroundcolor\": \"#E5ECF6\", \"gridcolor\": \"white\", \"gridwidth\": 2, \"linecolor\": \"white\", \"showbackground\": true, \"ticks\": \"\", \"zerolinecolor\": \"white\"}, \"yaxis\": {\"backgroundcolor\": \"#E5ECF6\", \"gridcolor\": \"white\", \"gridwidth\": 2, \"linecolor\": \"white\", \"showbackground\": true, \"ticks\": \"\", \"zerolinecolor\": \"white\"}, \"zaxis\": {\"backgroundcolor\": \"#E5ECF6\", \"gridcolor\": \"white\", \"gridwidth\": 2, \"linecolor\": \"white\", \"showbackground\": true, \"ticks\": \"\", \"zerolinecolor\": \"white\"}}, \"shapedefaults\": {\"line\": {\"color\": \"#2a3f5f\"}}, \"ternary\": {\"aaxis\": {\"gridcolor\": \"white\", \"linecolor\": \"white\", \"ticks\": \"\"}, \"baxis\": {\"gridcolor\": \"white\", \"linecolor\": \"white\", \"ticks\": \"\"}, \"bgcolor\": \"#E5ECF6\", \"caxis\": {\"gridcolor\": \"white\", \"linecolor\": \"white\", \"ticks\": \"\"}}, \"title\": {\"x\": 0.05}, \"xaxis\": {\"automargin\": true, \"gridcolor\": \"white\", \"linecolor\": \"white\", \"ticks\": \"\", \"title\": {\"standoff\": 15}, \"zerolinecolor\": \"white\", \"zerolinewidth\": 2}, \"yaxis\": {\"automargin\": true, \"gridcolor\": \"white\", \"linecolor\": \"white\", \"ticks\": \"\", \"title\": {\"standoff\": 15}, \"zerolinecolor\": \"white\", \"zerolinewidth\": 2}}}},                        {\"responsive\": true}                    ).then(function(){\n",
       "                            \n",
       "var gd = document.getElementById('adc99136-ebef-4820-b4ba-3a2f12c9e346');\n",
       "var x = new MutationObserver(function (mutations, observer) {{\n",
       "        var display = window.getComputedStyle(gd).display;\n",
       "        if (!display || display === 'none') {{\n",
       "            console.log([gd, 'removed!']);\n",
       "            Plotly.purge(gd);\n",
       "            observer.disconnect();\n",
       "        }}\n",
       "}});\n",
       "\n",
       "// Listen for the removal of the full notebook cells\n",
       "var notebookContainer = gd.closest('#notebook-container');\n",
       "if (notebookContainer) {{\n",
       "    x.observe(notebookContainer, {childList: true});\n",
       "}}\n",
       "\n",
       "// Listen for the clearing of the current output cell\n",
       "var outputEl = gd.closest('.output');\n",
       "if (outputEl) {{\n",
       "    x.observe(outputEl, {childList: true});\n",
       "}}\n",
       "\n",
       "                        })                };                });            </script>        </div>"
      ]
     },
     "metadata": {},
     "output_type": "display_data"
    },
    {
     "data": {
      "application/vnd.plotly.v1+json": {
       "config": {
        "plotlyServerURL": "https://plot.ly"
       },
       "data": [
        {
         "fill": "toself",
         "name": "France",
         "r": [
          36,
          21,
          42,
          27,
          47,
          26,
          17,
          60,
          23
         ],
         "textfont": {
          "size": 1
         },
         "theta": [
          "left_side_percent",
          "middle_side_percent",
          "right_side_percent",
          "own_third_percent",
          "middle_third_percent",
          "opposition_third_percent",
          "shot_left_side_percent",
          "shot_middle_side_percent",
          "shot_right_side_percent"
         ],
         "type": "scatterpolar"
        },
        {
         "fill": "toself",
         "name": "Panama",
         "r": [
          44,
          23,
          33,
          26,
          54,
          20,
          24,
          60,
          16
         ],
         "textfont": {
          "size": 1
         },
         "theta": [
          "left_side_percent",
          "middle_side_percent",
          "right_side_percent",
          "own_third_percent",
          "middle_third_percent",
          "opposition_third_percent",
          "shot_left_side_percent",
          "shot_middle_side_percent",
          "shot_right_side_percent"
         ],
         "type": "scatterpolar"
        }
       ],
       "layout": {
        "legend": {
         "x": 0.25,
         "xanchor": "right",
         "y": 0.9,
         "yanchor": "bottom"
        },
        "polar": {
         "radialaxis": {
          "visible": true
         }
        },
        "showlegend": true,
        "template": {
         "data": {
          "bar": [
           {
            "error_x": {
             "color": "#2a3f5f"
            },
            "error_y": {
             "color": "#2a3f5f"
            },
            "marker": {
             "line": {
              "color": "#E5ECF6",
              "width": 0.5
             }
            },
            "type": "bar"
           }
          ],
          "barpolar": [
           {
            "marker": {
             "line": {
              "color": "#E5ECF6",
              "width": 0.5
             }
            },
            "type": "barpolar"
           }
          ],
          "carpet": [
           {
            "aaxis": {
             "endlinecolor": "#2a3f5f",
             "gridcolor": "white",
             "linecolor": "white",
             "minorgridcolor": "white",
             "startlinecolor": "#2a3f5f"
            },
            "baxis": {
             "endlinecolor": "#2a3f5f",
             "gridcolor": "white",
             "linecolor": "white",
             "minorgridcolor": "white",
             "startlinecolor": "#2a3f5f"
            },
            "type": "carpet"
           }
          ],
          "choropleth": [
           {
            "colorbar": {
             "outlinewidth": 0,
             "ticks": ""
            },
            "type": "choropleth"
           }
          ],
          "contour": [
           {
            "colorbar": {
             "outlinewidth": 0,
             "ticks": ""
            },
            "colorscale": [
             [
              0,
              "#0d0887"
             ],
             [
              0.1111111111111111,
              "#46039f"
             ],
             [
              0.2222222222222222,
              "#7201a8"
             ],
             [
              0.3333333333333333,
              "#9c179e"
             ],
             [
              0.4444444444444444,
              "#bd3786"
             ],
             [
              0.5555555555555556,
              "#d8576b"
             ],
             [
              0.6666666666666666,
              "#ed7953"
             ],
             [
              0.7777777777777778,
              "#fb9f3a"
             ],
             [
              0.8888888888888888,
              "#fdca26"
             ],
             [
              1,
              "#f0f921"
             ]
            ],
            "type": "contour"
           }
          ],
          "contourcarpet": [
           {
            "colorbar": {
             "outlinewidth": 0,
             "ticks": ""
            },
            "type": "contourcarpet"
           }
          ],
          "heatmap": [
           {
            "colorbar": {
             "outlinewidth": 0,
             "ticks": ""
            },
            "colorscale": [
             [
              0,
              "#0d0887"
             ],
             [
              0.1111111111111111,
              "#46039f"
             ],
             [
              0.2222222222222222,
              "#7201a8"
             ],
             [
              0.3333333333333333,
              "#9c179e"
             ],
             [
              0.4444444444444444,
              "#bd3786"
             ],
             [
              0.5555555555555556,
              "#d8576b"
             ],
             [
              0.6666666666666666,
              "#ed7953"
             ],
             [
              0.7777777777777778,
              "#fb9f3a"
             ],
             [
              0.8888888888888888,
              "#fdca26"
             ],
             [
              1,
              "#f0f921"
             ]
            ],
            "type": "heatmap"
           }
          ],
          "heatmapgl": [
           {
            "colorbar": {
             "outlinewidth": 0,
             "ticks": ""
            },
            "colorscale": [
             [
              0,
              "#0d0887"
             ],
             [
              0.1111111111111111,
              "#46039f"
             ],
             [
              0.2222222222222222,
              "#7201a8"
             ],
             [
              0.3333333333333333,
              "#9c179e"
             ],
             [
              0.4444444444444444,
              "#bd3786"
             ],
             [
              0.5555555555555556,
              "#d8576b"
             ],
             [
              0.6666666666666666,
              "#ed7953"
             ],
             [
              0.7777777777777778,
              "#fb9f3a"
             ],
             [
              0.8888888888888888,
              "#fdca26"
             ],
             [
              1,
              "#f0f921"
             ]
            ],
            "type": "heatmapgl"
           }
          ],
          "histogram": [
           {
            "marker": {
             "colorbar": {
              "outlinewidth": 0,
              "ticks": ""
             }
            },
            "type": "histogram"
           }
          ],
          "histogram2d": [
           {
            "colorbar": {
             "outlinewidth": 0,
             "ticks": ""
            },
            "colorscale": [
             [
              0,
              "#0d0887"
             ],
             [
              0.1111111111111111,
              "#46039f"
             ],
             [
              0.2222222222222222,
              "#7201a8"
             ],
             [
              0.3333333333333333,
              "#9c179e"
             ],
             [
              0.4444444444444444,
              "#bd3786"
             ],
             [
              0.5555555555555556,
              "#d8576b"
             ],
             [
              0.6666666666666666,
              "#ed7953"
             ],
             [
              0.7777777777777778,
              "#fb9f3a"
             ],
             [
              0.8888888888888888,
              "#fdca26"
             ],
             [
              1,
              "#f0f921"
             ]
            ],
            "type": "histogram2d"
           }
          ],
          "histogram2dcontour": [
           {
            "colorbar": {
             "outlinewidth": 0,
             "ticks": ""
            },
            "colorscale": [
             [
              0,
              "#0d0887"
             ],
             [
              0.1111111111111111,
              "#46039f"
             ],
             [
              0.2222222222222222,
              "#7201a8"
             ],
             [
              0.3333333333333333,
              "#9c179e"
             ],
             [
              0.4444444444444444,
              "#bd3786"
             ],
             [
              0.5555555555555556,
              "#d8576b"
             ],
             [
              0.6666666666666666,
              "#ed7953"
             ],
             [
              0.7777777777777778,
              "#fb9f3a"
             ],
             [
              0.8888888888888888,
              "#fdca26"
             ],
             [
              1,
              "#f0f921"
             ]
            ],
            "type": "histogram2dcontour"
           }
          ],
          "mesh3d": [
           {
            "colorbar": {
             "outlinewidth": 0,
             "ticks": ""
            },
            "type": "mesh3d"
           }
          ],
          "parcoords": [
           {
            "line": {
             "colorbar": {
              "outlinewidth": 0,
              "ticks": ""
             }
            },
            "type": "parcoords"
           }
          ],
          "pie": [
           {
            "automargin": true,
            "type": "pie"
           }
          ],
          "scatter": [
           {
            "marker": {
             "colorbar": {
              "outlinewidth": 0,
              "ticks": ""
             }
            },
            "type": "scatter"
           }
          ],
          "scatter3d": [
           {
            "line": {
             "colorbar": {
              "outlinewidth": 0,
              "ticks": ""
             }
            },
            "marker": {
             "colorbar": {
              "outlinewidth": 0,
              "ticks": ""
             }
            },
            "type": "scatter3d"
           }
          ],
          "scattercarpet": [
           {
            "marker": {
             "colorbar": {
              "outlinewidth": 0,
              "ticks": ""
             }
            },
            "type": "scattercarpet"
           }
          ],
          "scattergeo": [
           {
            "marker": {
             "colorbar": {
              "outlinewidth": 0,
              "ticks": ""
             }
            },
            "type": "scattergeo"
           }
          ],
          "scattergl": [
           {
            "marker": {
             "colorbar": {
              "outlinewidth": 0,
              "ticks": ""
             }
            },
            "type": "scattergl"
           }
          ],
          "scattermapbox": [
           {
            "marker": {
             "colorbar": {
              "outlinewidth": 0,
              "ticks": ""
             }
            },
            "type": "scattermapbox"
           }
          ],
          "scatterpolar": [
           {
            "marker": {
             "colorbar": {
              "outlinewidth": 0,
              "ticks": ""
             }
            },
            "type": "scatterpolar"
           }
          ],
          "scatterpolargl": [
           {
            "marker": {
             "colorbar": {
              "outlinewidth": 0,
              "ticks": ""
             }
            },
            "type": "scatterpolargl"
           }
          ],
          "scatterternary": [
           {
            "marker": {
             "colorbar": {
              "outlinewidth": 0,
              "ticks": ""
             }
            },
            "type": "scatterternary"
           }
          ],
          "surface": [
           {
            "colorbar": {
             "outlinewidth": 0,
             "ticks": ""
            },
            "colorscale": [
             [
              0,
              "#0d0887"
             ],
             [
              0.1111111111111111,
              "#46039f"
             ],
             [
              0.2222222222222222,
              "#7201a8"
             ],
             [
              0.3333333333333333,
              "#9c179e"
             ],
             [
              0.4444444444444444,
              "#bd3786"
             ],
             [
              0.5555555555555556,
              "#d8576b"
             ],
             [
              0.6666666666666666,
              "#ed7953"
             ],
             [
              0.7777777777777778,
              "#fb9f3a"
             ],
             [
              0.8888888888888888,
              "#fdca26"
             ],
             [
              1,
              "#f0f921"
             ]
            ],
            "type": "surface"
           }
          ],
          "table": [
           {
            "cells": {
             "fill": {
              "color": "#EBF0F8"
             },
             "line": {
              "color": "white"
             }
            },
            "header": {
             "fill": {
              "color": "#C8D4E3"
             },
             "line": {
              "color": "white"
             }
            },
            "type": "table"
           }
          ]
         },
         "layout": {
          "annotationdefaults": {
           "arrowcolor": "#2a3f5f",
           "arrowhead": 0,
           "arrowwidth": 1
          },
          "autotypenumbers": "strict",
          "coloraxis": {
           "colorbar": {
            "outlinewidth": 0,
            "ticks": ""
           }
          },
          "colorscale": {
           "diverging": [
            [
             0,
             "#8e0152"
            ],
            [
             0.1,
             "#c51b7d"
            ],
            [
             0.2,
             "#de77ae"
            ],
            [
             0.3,
             "#f1b6da"
            ],
            [
             0.4,
             "#fde0ef"
            ],
            [
             0.5,
             "#f7f7f7"
            ],
            [
             0.6,
             "#e6f5d0"
            ],
            [
             0.7,
             "#b8e186"
            ],
            [
             0.8,
             "#7fbc41"
            ],
            [
             0.9,
             "#4d9221"
            ],
            [
             1,
             "#276419"
            ]
           ],
           "sequential": [
            [
             0,
             "#0d0887"
            ],
            [
             0.1111111111111111,
             "#46039f"
            ],
            [
             0.2222222222222222,
             "#7201a8"
            ],
            [
             0.3333333333333333,
             "#9c179e"
            ],
            [
             0.4444444444444444,
             "#bd3786"
            ],
            [
             0.5555555555555556,
             "#d8576b"
            ],
            [
             0.6666666666666666,
             "#ed7953"
            ],
            [
             0.7777777777777778,
             "#fb9f3a"
            ],
            [
             0.8888888888888888,
             "#fdca26"
            ],
            [
             1,
             "#f0f921"
            ]
           ],
           "sequentialminus": [
            [
             0,
             "#0d0887"
            ],
            [
             0.1111111111111111,
             "#46039f"
            ],
            [
             0.2222222222222222,
             "#7201a8"
            ],
            [
             0.3333333333333333,
             "#9c179e"
            ],
            [
             0.4444444444444444,
             "#bd3786"
            ],
            [
             0.5555555555555556,
             "#d8576b"
            ],
            [
             0.6666666666666666,
             "#ed7953"
            ],
            [
             0.7777777777777778,
             "#fb9f3a"
            ],
            [
             0.8888888888888888,
             "#fdca26"
            ],
            [
             1,
             "#f0f921"
            ]
           ]
          },
          "colorway": [
           "#636efa",
           "#EF553B",
           "#00cc96",
           "#ab63fa",
           "#FFA15A",
           "#19d3f3",
           "#FF6692",
           "#B6E880",
           "#FF97FF",
           "#FECB52"
          ],
          "font": {
           "color": "#2a3f5f"
          },
          "geo": {
           "bgcolor": "white",
           "lakecolor": "white",
           "landcolor": "#E5ECF6",
           "showlakes": true,
           "showland": true,
           "subunitcolor": "white"
          },
          "hoverlabel": {
           "align": "left"
          },
          "hovermode": "closest",
          "mapbox": {
           "style": "light"
          },
          "paper_bgcolor": "white",
          "plot_bgcolor": "#E5ECF6",
          "polar": {
           "angularaxis": {
            "gridcolor": "white",
            "linecolor": "white",
            "ticks": ""
           },
           "bgcolor": "#E5ECF6",
           "radialaxis": {
            "gridcolor": "white",
            "linecolor": "white",
            "ticks": ""
           }
          },
          "scene": {
           "xaxis": {
            "backgroundcolor": "#E5ECF6",
            "gridcolor": "white",
            "gridwidth": 2,
            "linecolor": "white",
            "showbackground": true,
            "ticks": "",
            "zerolinecolor": "white"
           },
           "yaxis": {
            "backgroundcolor": "#E5ECF6",
            "gridcolor": "white",
            "gridwidth": 2,
            "linecolor": "white",
            "showbackground": true,
            "ticks": "",
            "zerolinecolor": "white"
           },
           "zaxis": {
            "backgroundcolor": "#E5ECF6",
            "gridcolor": "white",
            "gridwidth": 2,
            "linecolor": "white",
            "showbackground": true,
            "ticks": "",
            "zerolinecolor": "white"
           }
          },
          "shapedefaults": {
           "line": {
            "color": "#2a3f5f"
           }
          },
          "ternary": {
           "aaxis": {
            "gridcolor": "white",
            "linecolor": "white",
            "ticks": ""
           },
           "baxis": {
            "gridcolor": "white",
            "linecolor": "white",
            "ticks": ""
           },
           "bgcolor": "#E5ECF6",
           "caxis": {
            "gridcolor": "white",
            "linecolor": "white",
            "ticks": ""
           }
          },
          "title": {
           "x": 0.05
          },
          "xaxis": {
           "automargin": true,
           "gridcolor": "white",
           "linecolor": "white",
           "ticks": "",
           "title": {
            "standoff": 15
           },
           "zerolinecolor": "white",
           "zerolinewidth": 2
          },
          "yaxis": {
           "automargin": true,
           "gridcolor": "white",
           "linecolor": "white",
           "ticks": "",
           "title": {
            "standoff": 15
           },
           "zerolinecolor": "white",
           "zerolinewidth": 2
          }
         }
        },
        "title": {
         "text": "Radar chart of France and Panama's positions",
         "x": 0.5,
         "xanchor": "center",
         "y": 0.93,
         "yanchor": "top"
        }
       }
      },
      "text/html": [
       "<div>                            <div id=\"2fd964da-656c-48e0-bfcf-438d0646e4a2\" class=\"plotly-graph-div\" style=\"height:525px; width:100%;\"></div>            <script type=\"text/javascript\">                require([\"plotly\"], function(Plotly) {                    window.PLOTLYENV=window.PLOTLYENV || {};                                    if (document.getElementById(\"2fd964da-656c-48e0-bfcf-438d0646e4a2\")) {                    Plotly.newPlot(                        \"2fd964da-656c-48e0-bfcf-438d0646e4a2\",                        [{\"fill\": \"toself\", \"name\": \"France\", \"r\": [36, 21, 42, 27, 47, 26, 17, 60, 23], \"textfont\": {\"size\": 1}, \"theta\": [\"left_side_percent\", \"middle_side_percent\", \"right_side_percent\", \"own_third_percent\", \"middle_third_percent\", \"opposition_third_percent\", \"shot_left_side_percent\", \"shot_middle_side_percent\", \"shot_right_side_percent\"], \"type\": \"scatterpolar\"}, {\"fill\": \"toself\", \"name\": \"Panama\", \"r\": [44, 23, 33, 26, 54, 20, 24, 60, 16], \"textfont\": {\"size\": 1}, \"theta\": [\"left_side_percent\", \"middle_side_percent\", \"right_side_percent\", \"own_third_percent\", \"middle_third_percent\", \"opposition_third_percent\", \"shot_left_side_percent\", \"shot_middle_side_percent\", \"shot_right_side_percent\"], \"type\": \"scatterpolar\"}],                        {\"legend\": {\"x\": 0.25, \"xanchor\": \"right\", \"y\": 0.9, \"yanchor\": \"bottom\"}, \"polar\": {\"radialaxis\": {\"visible\": true}}, \"showlegend\": true, \"template\": {\"data\": {\"bar\": [{\"error_x\": {\"color\": \"#2a3f5f\"}, \"error_y\": {\"color\": \"#2a3f5f\"}, \"marker\": {\"line\": {\"color\": \"#E5ECF6\", \"width\": 0.5}}, \"type\": \"bar\"}], \"barpolar\": [{\"marker\": {\"line\": {\"color\": \"#E5ECF6\", \"width\": 0.5}}, \"type\": \"barpolar\"}], \"carpet\": [{\"aaxis\": {\"endlinecolor\": \"#2a3f5f\", \"gridcolor\": \"white\", \"linecolor\": \"white\", \"minorgridcolor\": \"white\", \"startlinecolor\": \"#2a3f5f\"}, \"baxis\": {\"endlinecolor\": \"#2a3f5f\", \"gridcolor\": \"white\", \"linecolor\": \"white\", \"minorgridcolor\": \"white\", \"startlinecolor\": \"#2a3f5f\"}, \"type\": \"carpet\"}], \"choropleth\": [{\"colorbar\": {\"outlinewidth\": 0, \"ticks\": \"\"}, \"type\": \"choropleth\"}], \"contour\": [{\"colorbar\": {\"outlinewidth\": 0, \"ticks\": \"\"}, \"colorscale\": [[0.0, \"#0d0887\"], [0.1111111111111111, \"#46039f\"], [0.2222222222222222, \"#7201a8\"], [0.3333333333333333, \"#9c179e\"], [0.4444444444444444, \"#bd3786\"], [0.5555555555555556, \"#d8576b\"], [0.6666666666666666, \"#ed7953\"], [0.7777777777777778, \"#fb9f3a\"], [0.8888888888888888, \"#fdca26\"], [1.0, \"#f0f921\"]], \"type\": \"contour\"}], \"contourcarpet\": [{\"colorbar\": {\"outlinewidth\": 0, \"ticks\": \"\"}, \"type\": \"contourcarpet\"}], \"heatmap\": [{\"colorbar\": {\"outlinewidth\": 0, \"ticks\": \"\"}, \"colorscale\": [[0.0, \"#0d0887\"], [0.1111111111111111, \"#46039f\"], [0.2222222222222222, \"#7201a8\"], [0.3333333333333333, \"#9c179e\"], [0.4444444444444444, \"#bd3786\"], [0.5555555555555556, \"#d8576b\"], [0.6666666666666666, \"#ed7953\"], [0.7777777777777778, \"#fb9f3a\"], [0.8888888888888888, \"#fdca26\"], [1.0, \"#f0f921\"]], \"type\": \"heatmap\"}], \"heatmapgl\": [{\"colorbar\": {\"outlinewidth\": 0, \"ticks\": \"\"}, \"colorscale\": [[0.0, \"#0d0887\"], [0.1111111111111111, \"#46039f\"], [0.2222222222222222, \"#7201a8\"], [0.3333333333333333, \"#9c179e\"], [0.4444444444444444, \"#bd3786\"], [0.5555555555555556, \"#d8576b\"], [0.6666666666666666, \"#ed7953\"], [0.7777777777777778, \"#fb9f3a\"], [0.8888888888888888, \"#fdca26\"], [1.0, \"#f0f921\"]], \"type\": \"heatmapgl\"}], \"histogram\": [{\"marker\": {\"colorbar\": {\"outlinewidth\": 0, \"ticks\": \"\"}}, \"type\": \"histogram\"}], \"histogram2d\": [{\"colorbar\": {\"outlinewidth\": 0, \"ticks\": \"\"}, \"colorscale\": [[0.0, \"#0d0887\"], [0.1111111111111111, \"#46039f\"], [0.2222222222222222, \"#7201a8\"], [0.3333333333333333, \"#9c179e\"], [0.4444444444444444, \"#bd3786\"], [0.5555555555555556, \"#d8576b\"], [0.6666666666666666, \"#ed7953\"], [0.7777777777777778, \"#fb9f3a\"], [0.8888888888888888, \"#fdca26\"], [1.0, \"#f0f921\"]], \"type\": \"histogram2d\"}], \"histogram2dcontour\": [{\"colorbar\": {\"outlinewidth\": 0, \"ticks\": \"\"}, \"colorscale\": [[0.0, \"#0d0887\"], [0.1111111111111111, \"#46039f\"], [0.2222222222222222, \"#7201a8\"], [0.3333333333333333, \"#9c179e\"], [0.4444444444444444, \"#bd3786\"], [0.5555555555555556, \"#d8576b\"], [0.6666666666666666, \"#ed7953\"], [0.7777777777777778, \"#fb9f3a\"], [0.8888888888888888, \"#fdca26\"], [1.0, \"#f0f921\"]], \"type\": \"histogram2dcontour\"}], \"mesh3d\": [{\"colorbar\": {\"outlinewidth\": 0, \"ticks\": \"\"}, \"type\": \"mesh3d\"}], \"parcoords\": [{\"line\": {\"colorbar\": {\"outlinewidth\": 0, \"ticks\": \"\"}}, \"type\": \"parcoords\"}], \"pie\": [{\"automargin\": true, \"type\": \"pie\"}], \"scatter\": [{\"marker\": {\"colorbar\": {\"outlinewidth\": 0, \"ticks\": \"\"}}, \"type\": \"scatter\"}], \"scatter3d\": [{\"line\": {\"colorbar\": {\"outlinewidth\": 0, \"ticks\": \"\"}}, \"marker\": {\"colorbar\": {\"outlinewidth\": 0, \"ticks\": \"\"}}, \"type\": \"scatter3d\"}], \"scattercarpet\": [{\"marker\": {\"colorbar\": {\"outlinewidth\": 0, \"ticks\": \"\"}}, \"type\": \"scattercarpet\"}], \"scattergeo\": [{\"marker\": {\"colorbar\": {\"outlinewidth\": 0, \"ticks\": \"\"}}, \"type\": \"scattergeo\"}], \"scattergl\": [{\"marker\": {\"colorbar\": {\"outlinewidth\": 0, \"ticks\": \"\"}}, \"type\": \"scattergl\"}], \"scattermapbox\": [{\"marker\": {\"colorbar\": {\"outlinewidth\": 0, \"ticks\": \"\"}}, \"type\": \"scattermapbox\"}], \"scatterpolar\": [{\"marker\": {\"colorbar\": {\"outlinewidth\": 0, \"ticks\": \"\"}}, \"type\": \"scatterpolar\"}], \"scatterpolargl\": [{\"marker\": {\"colorbar\": {\"outlinewidth\": 0, \"ticks\": \"\"}}, \"type\": \"scatterpolargl\"}], \"scatterternary\": [{\"marker\": {\"colorbar\": {\"outlinewidth\": 0, \"ticks\": \"\"}}, \"type\": \"scatterternary\"}], \"surface\": [{\"colorbar\": {\"outlinewidth\": 0, \"ticks\": \"\"}, \"colorscale\": [[0.0, \"#0d0887\"], [0.1111111111111111, \"#46039f\"], [0.2222222222222222, \"#7201a8\"], [0.3333333333333333, \"#9c179e\"], [0.4444444444444444, \"#bd3786\"], [0.5555555555555556, \"#d8576b\"], [0.6666666666666666, \"#ed7953\"], [0.7777777777777778, \"#fb9f3a\"], [0.8888888888888888, \"#fdca26\"], [1.0, \"#f0f921\"]], \"type\": \"surface\"}], \"table\": [{\"cells\": {\"fill\": {\"color\": \"#EBF0F8\"}, \"line\": {\"color\": \"white\"}}, \"header\": {\"fill\": {\"color\": \"#C8D4E3\"}, \"line\": {\"color\": \"white\"}}, \"type\": \"table\"}]}, \"layout\": {\"annotationdefaults\": {\"arrowcolor\": \"#2a3f5f\", \"arrowhead\": 0, \"arrowwidth\": 1}, \"autotypenumbers\": \"strict\", \"coloraxis\": {\"colorbar\": {\"outlinewidth\": 0, \"ticks\": \"\"}}, \"colorscale\": {\"diverging\": [[0, \"#8e0152\"], [0.1, \"#c51b7d\"], [0.2, \"#de77ae\"], [0.3, \"#f1b6da\"], [0.4, \"#fde0ef\"], [0.5, \"#f7f7f7\"], [0.6, \"#e6f5d0\"], [0.7, \"#b8e186\"], [0.8, \"#7fbc41\"], [0.9, \"#4d9221\"], [1, \"#276419\"]], \"sequential\": [[0.0, \"#0d0887\"], [0.1111111111111111, \"#46039f\"], [0.2222222222222222, \"#7201a8\"], [0.3333333333333333, \"#9c179e\"], [0.4444444444444444, \"#bd3786\"], [0.5555555555555556, \"#d8576b\"], [0.6666666666666666, \"#ed7953\"], [0.7777777777777778, \"#fb9f3a\"], [0.8888888888888888, \"#fdca26\"], [1.0, \"#f0f921\"]], \"sequentialminus\": [[0.0, \"#0d0887\"], [0.1111111111111111, \"#46039f\"], [0.2222222222222222, \"#7201a8\"], [0.3333333333333333, \"#9c179e\"], [0.4444444444444444, \"#bd3786\"], [0.5555555555555556, \"#d8576b\"], [0.6666666666666666, \"#ed7953\"], [0.7777777777777778, \"#fb9f3a\"], [0.8888888888888888, \"#fdca26\"], [1.0, \"#f0f921\"]]}, \"colorway\": [\"#636efa\", \"#EF553B\", \"#00cc96\", \"#ab63fa\", \"#FFA15A\", \"#19d3f3\", \"#FF6692\", \"#B6E880\", \"#FF97FF\", \"#FECB52\"], \"font\": {\"color\": \"#2a3f5f\"}, \"geo\": {\"bgcolor\": \"white\", \"lakecolor\": \"white\", \"landcolor\": \"#E5ECF6\", \"showlakes\": true, \"showland\": true, \"subunitcolor\": \"white\"}, \"hoverlabel\": {\"align\": \"left\"}, \"hovermode\": \"closest\", \"mapbox\": {\"style\": \"light\"}, \"paper_bgcolor\": \"white\", \"plot_bgcolor\": \"#E5ECF6\", \"polar\": {\"angularaxis\": {\"gridcolor\": \"white\", \"linecolor\": \"white\", \"ticks\": \"\"}, \"bgcolor\": \"#E5ECF6\", \"radialaxis\": {\"gridcolor\": \"white\", \"linecolor\": \"white\", \"ticks\": \"\"}}, \"scene\": {\"xaxis\": {\"backgroundcolor\": \"#E5ECF6\", \"gridcolor\": \"white\", \"gridwidth\": 2, \"linecolor\": \"white\", \"showbackground\": true, \"ticks\": \"\", \"zerolinecolor\": \"white\"}, \"yaxis\": {\"backgroundcolor\": \"#E5ECF6\", \"gridcolor\": \"white\", \"gridwidth\": 2, \"linecolor\": \"white\", \"showbackground\": true, \"ticks\": \"\", \"zerolinecolor\": \"white\"}, \"zaxis\": {\"backgroundcolor\": \"#E5ECF6\", \"gridcolor\": \"white\", \"gridwidth\": 2, \"linecolor\": \"white\", \"showbackground\": true, \"ticks\": \"\", \"zerolinecolor\": \"white\"}}, \"shapedefaults\": {\"line\": {\"color\": \"#2a3f5f\"}}, \"ternary\": {\"aaxis\": {\"gridcolor\": \"white\", \"linecolor\": \"white\", \"ticks\": \"\"}, \"baxis\": {\"gridcolor\": \"white\", \"linecolor\": \"white\", \"ticks\": \"\"}, \"bgcolor\": \"#E5ECF6\", \"caxis\": {\"gridcolor\": \"white\", \"linecolor\": \"white\", \"ticks\": \"\"}}, \"title\": {\"x\": 0.05}, \"xaxis\": {\"automargin\": true, \"gridcolor\": \"white\", \"linecolor\": \"white\", \"ticks\": \"\", \"title\": {\"standoff\": 15}, \"zerolinecolor\": \"white\", \"zerolinewidth\": 2}, \"yaxis\": {\"automargin\": true, \"gridcolor\": \"white\", \"linecolor\": \"white\", \"ticks\": \"\", \"title\": {\"standoff\": 15}, \"zerolinecolor\": \"white\", \"zerolinewidth\": 2}}}, \"title\": {\"text\": \"Radar chart of France and Panama's positions\", \"x\": 0.5, \"xanchor\": \"center\", \"y\": 0.93, \"yanchor\": \"top\"}},                        {\"responsive\": true}                    ).then(function(){\n",
       "                            \n",
       "var gd = document.getElementById('2fd964da-656c-48e0-bfcf-438d0646e4a2');\n",
       "var x = new MutationObserver(function (mutations, observer) {{\n",
       "        var display = window.getComputedStyle(gd).display;\n",
       "        if (!display || display === 'none') {{\n",
       "            console.log([gd, 'removed!']);\n",
       "            Plotly.purge(gd);\n",
       "            observer.disconnect();\n",
       "        }}\n",
       "}});\n",
       "\n",
       "// Listen for the removal of the full notebook cells\n",
       "var notebookContainer = gd.closest('#notebook-container');\n",
       "if (notebookContainer) {{\n",
       "    x.observe(notebookContainer, {childList: true});\n",
       "}}\n",
       "\n",
       "// Listen for the clearing of the current output cell\n",
       "var outputEl = gd.closest('.output');\n",
       "if (outputEl) {{\n",
       "    x.observe(outputEl, {childList: true});\n",
       "}}\n",
       "\n",
       "                        })                };                });            </script>        </div>"
      ]
     },
     "metadata": {},
     "output_type": "display_data"
    },
    {
     "data": {
      "text/plain": [
       "<Figure size 432x288 with 0 Axes>"
      ]
     },
     "metadata": {},
     "output_type": "display_data"
    }
   ],
   "source": [
    "import statsmodels.api as sm\n",
    "import plotly.graph_objects as go\n",
    "\n",
    "\n",
    "categories = ['left_side_percent',\n",
    " 'middle_side_percent',\n",
    " 'right_side_percent',\n",
    " 'own_third_percent',\n",
    " 'middle_third_percent',\n",
    " 'opposition_third_percent',\n",
    " 'shot_left_side_percent',\n",
    " 'shot_middle_side_percent',\n",
    " 'shot_right_side_percent']\n",
    "\n",
    "\n",
    "\n",
    "fig = go.Figure()\n",
    "\n",
    "fig.add_trace(go.Scatterpolar(\n",
    "      r=spider_chart.loc[10][\"left_side_percent\":\"shot_right_side_percent\"],\n",
    "      theta=categories,\n",
    "      fill='toself',\n",
    "      name='France',\n",
    "    textfont_size=1\n",
    "))\n",
    "\n",
    "fig.add_trace(go.Scatterpolar(\n",
    "      r=spider_chart.loc[18][\"left_side_percent\":\"shot_right_side_percent\"],\n",
    "      theta=categories,\n",
    "      fill='toself',\n",
    "      name='Panama',\n",
    "     textfont_size=1\n",
    "))\n",
    "\n",
    "\n",
    "fig.update_layout(\n",
    "     title={\n",
    "        'text': \"Radar chart of France and Panama's positions\",\n",
    "        'y':0.93,\n",
    "        'x':0.5,\n",
    "        'xanchor': 'center',\n",
    "        'yanchor': 'top'},\n",
    "  polar=dict(\n",
    "    radialaxis=dict(visible=True)),\n",
    "  legend=dict(\n",
    "    yanchor=\"bottom\",\n",
    "    y=0.9,\n",
    "    xanchor=\"right\",\n",
    "    x=0.25),\n",
    "  showlegend=True\n",
    ")\n",
    "\n",
    "\n",
    "plt.savefig(\"/project/Visualisation_graphs/Radar_chart.png\")\n",
    "plt.show()\n",
    "\n"
   ]
  },
  {
   "cell_type": "markdown",
   "metadata": {},
   "source": [
    "## Heatmaps"
   ]
  },
  {
   "cell_type": "code",
   "execution_count": 45,
   "metadata": {},
   "outputs": [],
   "source": [
    "all_summary18 = pd.read_csv('/project/all_summary18.csv', index_col=0)\n",
    "all_pass18 = pd.read_csv('/project/all_pass18.csv', index_col=0)"
   ]
  },
  {
   "cell_type": "code",
   "execution_count": 46,
   "metadata": {},
   "outputs": [
    {
     "data": {
      "text/plain": [
       "Text(0.5, 1.0, 'Correlation Matrix for summary football')"
      ]
     },
     "execution_count": 46,
     "metadata": {},
     "output_type": "execute_result"
    },
    {
     "data": {
      "image/png": "[encoded data removed]",
      "text/plain": [
       "<Figure size 432x288 with 2 Axes>"
      ]
     },
     "metadata": {
      "needs_background": "light"
     },
     "output_type": "display_data"
    }
   ],
   "source": [
    "# First correlation matrix for the data in all_summary_18 dataset\n",
    "dfCorr1 = pd.DataFrame(all_summary18)\n",
    "\n",
    "corrMatrix1 = dfCorr1.corr()\n",
    "ax = sns.heatmap(corrMatrix1,annot=False, vmin=-1, vmax=1, center=0)\n",
    "#ax.set_ylim([0,20])\n",
    "ax.set_title(\"Correlation Matrix for summary football\", fontsize = 14)\n",
    "\n",
    "_ = ax.set_yticklabels(\n",
    "    ax.get_yticklabels(),\n",
    "    rotation=0,\n",
    "    horizontalalignment='right')\n",
    "\n",
    "plt.savefig(\"Correlation Matrix for summary football.png\")\n",
    "\n",
    "\n"
   ]
  },
  {
   "cell_type": "code",
   "execution_count": 47,
   "metadata": {},
   "outputs": [
    {
     "data": {
      "text/plain": [
       "Text(0.5, 1.0, 'Correlation Matrix for pass football')"
      ]
     },
     "execution_count": 47,
     "metadata": {},
     "output_type": "execute_result"
    },
    {
     "data": {
      "image/png": "[encoded data removed]",
      "text/plain": [
       "<Figure size 432x288 with 2 Axes>"
      ]
     },
     "metadata": {
      "needs_background": "light"
     },
     "output_type": "display_data"
    }
   ],
   "source": [
    "# Second correlation matrix for the data in all_pass18 dataset\n",
    "dfCorr2 = pd.DataFrame(all_pass18)\n",
    "\n",
    "corrMatrix2 = dfCorr2.corr()\n",
    "ax = sns.heatmap(corrMatrix2,annot=False, vmin=-1, vmax=1, center=0)\n",
    "#ax.set_ylim([0,20])\n",
    "ax.set_title(\"Correlation Matrix for pass football\", fontsize = 14)\n",
    "\n",
    "plt.savefig(\"Correlation Matrix for pass football.png\")\n"
   ]
  },
  {
   "cell_type": "markdown",
   "metadata": {},
   "source": [
    "## Box Plot of Shots Per Game"
   ]
  },
  {
   "cell_type": "code",
   "execution_count": 48,
   "metadata": {},
   "outputs": [
    {
     "data": {
      "text/plain": [
       "[]"
      ]
     },
     "execution_count": 48,
     "metadata": {},
     "output_type": "execute_result"
    },
    {
     "data": {
      "text/plain": [
       "(1.0, 10.0)"
      ]
     },
     "execution_count": 48,
     "metadata": {},
     "output_type": "execute_result"
    },
    {
     "data": {
      "text/plain": [
       "Text(0.5, 0, 'Number of Shots Per Game')"
      ]
     },
     "execution_count": 48,
     "metadata": {},
     "output_type": "execute_result"
    },
    {
     "data": {
      "image/png": "[encoded data removed]",
      "text/plain": [
       "<Figure size 432x288 with 1 Axes>"
      ]
     },
     "metadata": {
      "needs_background": "light"
     },
     "output_type": "display_data"
    }
   ],
   "source": [
    "shotspergame = sns.boxplot(\n",
    "    x = \"shotsPerGame\", \n",
    "    data = all_football_18,  \n",
    "    color = \"#E8E8E8\", \n",
    "    linewidth=1, \n",
    "    width=0.75,\n",
    "    flierprops = {\"marker\": 'o', \n",
    "                  \"markerfacecolor\": '#6082B6', \n",
    "                  \"markersize\": 3, \n",
    "                  \"markeredgecolor\": '#6082B6'}\n",
    ")\n",
    "shotspergame.set_yticks([])\n",
    "shotspergame.set_xlim([1,10])\n",
    "_ = shotspergame.set_xticks([2,4,6,8,10,12,14,16,18,20])\n",
    "shotspergame.set_xlabel(\"Number of Shots Per Game\")\n",
    "\n",
    "\n",
    "plt.savefig(\"Box Plot of Shots Per Game.png\")"
   ]
  },
  {
   "cell_type": "code",
   "execution_count": null,
   "metadata": {},
   "outputs": [],
   "source": []
  }
 ],
 "metadata": {
  "kernelspec": {
   "display_name": "Python [conda env:Python3] *",
   "language": "python",
   "name": "conda-env-Python3-py"
  },
  "language_info": {
   "codemirror_mode": {
    "name": "ipython",
    "version": 3
   },
   "file_extension": ".py",
   "mimetype": "text/x-python",
   "name": "python",
   "nbconvert_exporter": "python",
   "pygments_lexer": "ipython3",
   "version": "3.8.2"
  }
 },
 "nbformat": 4,
 "nbformat_minor": 2
}
